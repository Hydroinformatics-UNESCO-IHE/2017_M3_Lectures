{
 "cells": [
  {
   "cell_type": "markdown",
   "metadata": {},
   "source": [
    "# Functions\n",
    "\n",
    "A function is a block of organized, reusable code that is used to perform a single, related action. Functions provide better modularity for your application and a high degree of code reusing. \n",
    "\n",
    "As you already know, Python gives you many built-in functions like `print()`, etc. but you can also create your own functions. These functions are called user-defined functions.\n",
    "\n",
    "## Defining a Function\n",
    "You can define functions to take inputs and convert them into the required output. A function in Python has four parts: \n",
    "\n",
    "1. Function statement\n",
    "2. Function description (optional)\n",
    "3. Validation of inputs (optional)\n",
    "4. Computation code\n",
    "\n",
    "### Function statement\n",
    "The function statement is the first line you write when creating a function. It begins with the keyword `def`, followed by: \n",
    "\n",
    "a. The function name\n",
    "\n",
    "b. Round brackets `()` with the arguments (or parameters) separated by commas \n",
    "\n",
    "c. A colon (`:`)\n",
    "\n",
    "### Function description (optional)\n",
    "The function description is a text that describes what the function does, what are the inputs needed, what are the outputs produced. A good description includes also some examples of how to use it. This text is known in Python as `docstrings` and it is saved as part of the function documentation. Although this section is not compulsory, it should be always used.\n",
    "\n",
    "### Validation of inputs (optional)\n",
    "The following block consists on the validation of inputs, which is meant to check if the inputs entered by the user are appropriate to be used in the calculations. Although this section is not compulsory, a good validation of inputs is a must of robust and solid functions. \n",
    "\n",
    "It is possible to stop the code execution by issuing the statement `raise`. This statement is usually followed by an exception name, which helps to identify the type of error that occurred. Some of the base type errors are `NameError`, when the name of the variable is not defined, or TypeError, when the type of the variable is not of the expected type. The exceptions are functions which take as input a `str` containing the description of the error. Keep in mind that raising errors is not unique for input validation, but valid for any type of error. A description of the built-in exceptions are given in https://docs.python.org/2.7/library/exceptions.html#bltin-exceptions.\n",
    "\n",
    "### Computations\n",
    "The last block of a function actually contains the code required to transform the inputs into outputs. In this block, the `return` keyword is needed to \"send\" the obtained output to the caller. If the return is empty, or it is not issued, the function returns `None`.\n",
    "\n",
    "Let us see an example of a function with all parts that sums up the variables `a` and `b`."
   ]
  },
  {
   "cell_type": "code",
   "execution_count": 21,
   "metadata": {},
   "outputs": [
    {
     "ename": "TypeError",
     "evalue": "a should be float!",
     "output_type": "error",
     "traceback": [
      "\u001b[1;31m---------------------------------------------------------------------------\u001b[0m",
      "\u001b[1;31mTypeError\u001b[0m                                 Traceback (most recent call last)",
      "\u001b[1;32m<ipython-input-21-972d1baf1e15>\u001b[0m in \u001b[0;36m<module>\u001b[1;34m()\u001b[0m\n\u001b[0;32m     45\u001b[0m \u001b[1;33m\u001b[0m\u001b[0m\n\u001b[0;32m     46\u001b[0m     \u001b[1;32mreturn\u001b[0m \u001b[0mresult\u001b[0m\u001b[1;33m\u001b[0m\u001b[0m\n\u001b[1;32m---> 47\u001b[1;33m \u001b[0mout\u001b[0m \u001b[1;33m=\u001b[0m \u001b[0mmy_function\u001b[0m\u001b[1;33m(\u001b[0m\u001b[1;34m'a'\u001b[0m\u001b[1;33m,\u001b[0m\u001b[1;36m4\u001b[0m\u001b[1;33m)\u001b[0m\u001b[1;33m\u001b[0m\u001b[0m\n\u001b[0m",
      "\u001b[1;32m<ipython-input-21-972d1baf1e15>\u001b[0m in \u001b[0;36mmy_function\u001b[1;34m(a, b)\u001b[0m\n\u001b[0;32m     34\u001b[0m         \u001b[1;31m# quit the function and any function(s) that may have called it\u001b[0m\u001b[1;33m\u001b[0m\u001b[1;33m\u001b[0m\u001b[0m\n\u001b[0;32m     35\u001b[0m         \u001b[1;31m# print('a should be float!')\u001b[0m\u001b[1;33m\u001b[0m\u001b[1;33m\u001b[0m\u001b[0m\n\u001b[1;32m---> 36\u001b[1;33m         \u001b[1;32mraise\u001b[0m \u001b[0mTypeError\u001b[0m\u001b[1;33m(\u001b[0m\u001b[1;34m'a should be float!'\u001b[0m\u001b[1;33m)\u001b[0m\u001b[1;33m\u001b[0m\u001b[0m\n\u001b[0m\u001b[0;32m     37\u001b[0m \u001b[1;33m\u001b[0m\u001b[0m\n\u001b[0;32m     38\u001b[0m     \u001b[1;32mif\u001b[0m \u001b[0mtype\u001b[0m\u001b[1;33m(\u001b[0m\u001b[0mb\u001b[0m\u001b[1;33m)\u001b[0m \u001b[1;33m!=\u001b[0m \u001b[0mint\u001b[0m \u001b[1;32mand\u001b[0m \u001b[0mtype\u001b[0m\u001b[1;33m(\u001b[0m\u001b[0mb\u001b[0m\u001b[1;33m)\u001b[0m \u001b[1;33m!=\u001b[0m \u001b[0mfloat\u001b[0m\u001b[1;33m:\u001b[0m\u001b[1;33m\u001b[0m\u001b[0m\n",
      "\u001b[1;31mTypeError\u001b[0m: a should be float!"
     ]
    }
   ],
   "source": [
    "def my_function(a, b):\n",
    "    # Description section (documentation)\n",
    "    '''\n",
    "    \n",
    "    \n",
    "    my_function\n",
    "    \n",
    "    Returns the sum of two real numbers a and b\n",
    "\n",
    "    Parameters\n",
    "    ----------\n",
    "    a: int or float\n",
    "        Takes the value of parameter a\n",
    "        \n",
    "    b: int or float\n",
    "        Takes the value of parameter b\n",
    "        \n",
    "    Returns\n",
    "    -------\n",
    "    Out: int or float\n",
    "        the sum of a and b\n",
    "    \n",
    "    Example\n",
    "    -------\n",
    "    s = myfunction(4,5)\n",
    "    print(s)\n",
    "    \n",
    "    will return 9\n",
    "    '''\n",
    "\n",
    "    # Input validation section\n",
    "   \n",
    "    if type(a) != int and type(a) != float:\n",
    "        # quit the function and any function(s) that may have called it\n",
    "        # print('a should be float!')\n",
    "        raise TypeError('a should be float!')\n",
    "        \n",
    "    if type(b) != int and type(b) != float:\n",
    "        # quit the function and any function(s) that may have called it\n",
    "        # print('b should be float!')\n",
    "        raise TypeError('b should be a float')\n",
    "        \n",
    "    # Computation section\n",
    "    result = a + b\n",
    "    \n",
    "    return result\n",
    "out = my_function('a',4)"
   ]
  },
  {
   "cell_type": "markdown",
   "metadata": {},
   "source": [
    "Note that at this point we have only defined the function, but we have not used it yet. Therefore, it is not possible to get any results until we use the function. To use the function we simply write the name of the function, followed by the values that the parameters `a` and `b` will take inside round brackets: "
   ]
  },
  {
   "cell_type": "code",
   "execution_count": 15,
   "metadata": {},
   "outputs": [
    {
     "name": "stdout",
     "output_type": "stream",
     "text": [
      "a should be float!\n"
     ]
    },
    {
     "ename": "TypeError",
     "evalue": "exceptions must be old-style classes or derived from BaseException, not NoneType",
     "output_type": "error",
     "traceback": [
      "\u001b[1;31m---------------------------------------------------------------------------\u001b[0m",
      "\u001b[1;31mTypeError\u001b[0m                                 Traceback (most recent call last)",
      "\u001b[1;32m<ipython-input-15-dd5a00df2a26>\u001b[0m in \u001b[0;36m<module>\u001b[1;34m()\u001b[0m\n\u001b[1;32m----> 1\u001b[1;33m \u001b[0mout\u001b[0m \u001b[1;33m=\u001b[0m \u001b[0mmy_function\u001b[0m\u001b[1;33m(\u001b[0m\u001b[1;34m'a'\u001b[0m\u001b[1;33m,\u001b[0m\u001b[1;36m4\u001b[0m\u001b[1;33m)\u001b[0m\u001b[1;33m\u001b[0m\u001b[0m\n\u001b[0m\u001b[0;32m      2\u001b[0m \u001b[1;32mprint\u001b[0m\u001b[1;33m(\u001b[0m\u001b[0mout\u001b[0m\u001b[1;33m)\u001b[0m\u001b[1;33m\u001b[0m\u001b[0m\n",
      "\u001b[1;32m<ipython-input-14-0de5a6ce5dc8>\u001b[0m in \u001b[0;36mmy_function\u001b[1;34m(a, b)\u001b[0m\n\u001b[0;32m     34\u001b[0m         \u001b[1;31m# quit the function and any function(s) that may have called it\u001b[0m\u001b[1;33m\u001b[0m\u001b[1;33m\u001b[0m\u001b[0m\n\u001b[0;32m     35\u001b[0m         \u001b[1;32mprint\u001b[0m\u001b[1;33m(\u001b[0m\u001b[1;34m'a should be float!'\u001b[0m\u001b[1;33m)\u001b[0m\u001b[1;33m\u001b[0m\u001b[0m\n\u001b[1;32m---> 36\u001b[1;33m         \u001b[1;32mraise\u001b[0m\u001b[1;33m\u001b[0m\u001b[0m\n\u001b[0m\u001b[0;32m     37\u001b[0m \u001b[1;33m\u001b[0m\u001b[0m\n\u001b[0;32m     38\u001b[0m     \u001b[1;32mif\u001b[0m \u001b[0mtype\u001b[0m\u001b[1;33m(\u001b[0m\u001b[0mb\u001b[0m\u001b[1;33m)\u001b[0m \u001b[1;33m!=\u001b[0m \u001b[0mint\u001b[0m \u001b[1;32mand\u001b[0m \u001b[0mtype\u001b[0m\u001b[1;33m(\u001b[0m\u001b[0mb\u001b[0m\u001b[1;33m)\u001b[0m \u001b[1;33m!=\u001b[0m \u001b[0mfloat\u001b[0m\u001b[1;33m:\u001b[0m\u001b[1;33m\u001b[0m\u001b[0m\n",
      "\u001b[1;31mTypeError\u001b[0m: exceptions must be old-style classes or derived from BaseException, not NoneType"
     ]
    }
   ],
   "source": [
    "out = my_function('a',4)\n",
    "print(out)\n"
   ]
  },
  {
   "cell_type": "markdown",
   "metadata": {},
   "source": [
    "The description section shows a typical Python's docstrings, which is used for documentation. Try the following:"
   ]
  },
  {
   "cell_type": "code",
   "execution_count": 8,
   "metadata": {},
   "outputs": [
    {
     "name": "stdout",
     "output_type": "stream",
     "text": [
      "Help on function my_function in module __main__:\n",
      "\n",
      "my_function(a, b)\n",
      "    my_function\n",
      "    \n",
      "    Returns the sum of two real numbers a and b\n",
      "    \n",
      "    Parameters\n",
      "    ----------\n",
      "    a: int or float\n",
      "        Takes the value of parameter a\n",
      "        \n",
      "    b: int or float\n",
      "        Takes the value of parameter b\n",
      "        \n",
      "    Returns\n",
      "    -------\n",
      "    Out: int or float\n",
      "        the sum of a and b\n",
      "    \n",
      "    Example\n",
      "    -------\n",
      "    s = myfunction(4,5)\n",
      "    print(s)\n",
      "    \n",
      "    will return 9\n",
      "\n"
     ]
    }
   ],
   "source": [
    "help(my_function)"
   ]
  },
  {
   "cell_type": "markdown",
   "metadata": {},
   "source": [
    "All parameters (arguments) in the Python language are passed by reference. This means that if you change what a parameter refers to within a function, the change is also reflected back in the function call. Therefore, any mutation in the variable passed in the function inputs are reflected in the outputs. Re-assignation of variables are not returned via the input arguments. \n",
    "\n",
    "For example, see how the following function mutates the passed variable, but does not affect the re-assigned variables."
   ]
  },
  {
   "cell_type": "code",
   "execution_count": 9,
   "metadata": {},
   "outputs": [
    {
     "name": "stdout",
     "output_type": "stream",
     "text": [
      "value of a inside the function: [1, 2, 3, 1]\n",
      "value of b inside the function: something else\n",
      "value of the input a after running the function [1, 2, 3, 1]\n",
      "value of the input b after running the function [1, 2, 3]\n"
     ]
    }
   ],
   "source": [
    "def my_function(a,b):\n",
    "    # Mutated variable\n",
    "    a.append(1)\n",
    "    \n",
    "    # Re-assigned variable\n",
    "    b = 'something else'\n",
    "    \n",
    "    # See the values of the parameter inside the function\n",
    "    print('value of a inside the function: {0}'.format(a))\n",
    "    print('value of b inside the function: {0}'.format(b))\n",
    "    \n",
    "    return\n",
    "\n",
    "# define the function arguments\n",
    "inp_a = [1,2,3]\n",
    "inp_b = [1,2,3]\n",
    "\n",
    "my_function(inp_a, inp_b)\n",
    "print('value of the input a after running the function {0}'.format(inp_a))\n",
    "print('value of the input b after running the function {0}'.format(inp_b))"
   ]
  },
  {
   "cell_type": "markdown",
   "metadata": {},
   "source": [
    "## Function Arguments\n",
    "You can call a function by using the following types of formal arguments:\n",
    "\n",
    "- Required arguments\n",
    "- Keyword arguments\n",
    "- Default arguments\n",
    "- Variable-length arguments\n",
    "\n",
    "### Required arguments\n",
    "\n",
    "Required arguments are the arguments passed to a function in correct positional order. Here, the number of arguments in the function call should match exactly with the function definition. If this is not the case, the function will raise an error. It has to be noted that required arguments have to be passed, even if the code does not require them to finalise."
   ]
  },
  {
   "cell_type": "code",
   "execution_count": 10,
   "metadata": {},
   "outputs": [
    {
     "name": "stdout",
     "output_type": "stream",
     "text": [
      "1\n"
     ]
    },
    {
     "ename": "TypeError",
     "evalue": "my_function() takes exactly 2 arguments (1 given)",
     "output_type": "error",
     "traceback": [
      "\u001b[1;31m---------------------------------------------------------------------------\u001b[0m",
      "\u001b[1;31mTypeError\u001b[0m                                 Traceback (most recent call last)",
      "\u001b[1;32m<ipython-input-10-b4488343f958>\u001b[0m in \u001b[0;36m<module>\u001b[1;34m()\u001b[0m\n\u001b[0;32m      8\u001b[0m \u001b[1;33m\u001b[0m\u001b[0m\n\u001b[0;32m      9\u001b[0m \u001b[1;31m# Here we call the function with incomplete arguments (will fail)\u001b[0m\u001b[1;33m\u001b[0m\u001b[1;33m\u001b[0m\u001b[0m\n\u001b[1;32m---> 10\u001b[1;33m \u001b[0mmy_function\u001b[0m\u001b[1;33m(\u001b[0m\u001b[1;36m1\u001b[0m\u001b[1;33m)\u001b[0m\u001b[1;33m\u001b[0m\u001b[0m\n\u001b[0m",
      "\u001b[1;31mTypeError\u001b[0m: my_function() takes exactly 2 arguments (1 given)"
     ]
    }
   ],
   "source": [
    "# This is a function definition with required arguments\n",
    "def my_function(a, b):\n",
    "    print(a)\n",
    "    return\n",
    "\n",
    "# Here we call a function with the required arguments\n",
    "my_function(1, 2)\n",
    "\n",
    "# Here we call the function with incomplete arguments (will fail)\n",
    "my_function(1)"
   ]
  },
  {
   "cell_type": "markdown",
   "metadata": {},
   "source": [
    "### Keyword arguments\n",
    "Keyword arguments are related to the function calls. When you use keyword arguments in a function call, the caller identifies the arguments by the parameter name. In this case, it is possible to re-order the parameters. This allows you to skip arguments or place them out of order because the Python interpreter is able to use the keywords provided to match the values with parameters. Note that the keyword arguments use the same variables that were defined in the function parameters."
   ]
  },
  {
   "cell_type": "code",
   "execution_count": null,
   "metadata": {},
   "outputs": [],
   "source": [
    "# This is a function definition with required arguments\n",
    "def my_function(a, b):\n",
    "    print(a)\n",
    "    return\n",
    "\n",
    "# Here we call a function with the keyword arguments\n",
    "my_function(a=1, b=2)\n",
    "\n",
    "# Here we call the function with arguments sorted in a different manner\n",
    "my_function(b=2, a=1)"
   ]
  },
  {
   "cell_type": "markdown",
   "metadata": {},
   "source": [
    "### Default arguments\n",
    "\n",
    "These type of arguments will take a default value in case no argument is passed. These type of arguments are quite useful to reduce the ammount of characters that common functions receive, and therefore, helps you simplifying your code. Also, it makes it possible to make it more general in the case the default variables may be changed."
   ]
  },
  {
   "cell_type": "code",
   "execution_count": null,
   "metadata": {},
   "outputs": [],
   "source": [
    "a = 1\n",
    "def my_function(a=a, b=2):\n",
    "    # See the values of the parameter inside the function\n",
    "    print('value of a inside the function: {0}'.format(a))\n",
    "    print('value of b inside the function: {0}'.format(b))\n",
    "    print('')\n",
    "    return\n",
    "\n",
    "my_function()\n",
    "my_function(a=3)\n",
    "my_function(b=4)\n"
   ]
  },
  {
   "cell_type": "markdown",
   "metadata": {},
   "source": [
    "### Variable-length arguments\n",
    "You may need to process a function for more arguments than you specified while defining the function. These arguments are called variable-length arguments and are not named in the function definition, unlike required and default arguments. The argument are defined within a function with the `*` prefix in the argument definition, and the results will be stored in a tuple such as:\n",
    "\n"
   ]
  },
  {
   "cell_type": "code",
   "execution_count": null,
   "metadata": {},
   "outputs": [],
   "source": [
    "a = 1\n",
    "def my_function(a=a, b=2, *vl_args):\n",
    "    # See the values of the parameter inside the function\n",
    "    print('value of a inside the function: {0}'.format(a))\n",
    "    print('value of b inside the function: {0}'.format(b))\n",
    "    print('value of the additional variables inside the function: {0}'.format(vl_args))\n",
    "    print('')\n",
    "    return\n",
    "\n",
    "my_function(1,2,3,4,5,6)"
   ]
  },
  {
   "cell_type": "markdown",
   "metadata": {},
   "source": [
    "### Optional Keyword arguments\n",
    "\n",
    "Additionally, it is possible to pass positional arguments with keywords. This allows not only to submit values, but variables with its own definitions. This type of arguments are commonly seen in the `matplotlib` library. For passing optional keyword arguments, the variable that will store the dictionary with the variables is stored in the argument with the prefix with two asterisks `**`. The variable that is created is a dictionary that is possible to accessed later."
   ]
  },
  {
   "cell_type": "code",
   "execution_count": null,
   "metadata": {},
   "outputs": [],
   "source": [
    "a = 1\n",
    "def my_function(a=a, b=2, **opt_kw):\n",
    "    # See the values of the parameter inside the function\n",
    "    print('value of a inside the function: {0}'.format(a))\n",
    "    print('value of b inside the function: {0}'.format(b))\n",
    "    print('value of the optional keyword arguments inside the function: {0}'.format(opt_kw))\n",
    "    print('')\n",
    "    return\n",
    "\n",
    "my_function(1,2, xx=11, yy=22)"
   ]
  },
  {
   "cell_type": "markdown",
   "metadata": {},
   "source": [
    "Keep in mind that the optional arguments"
   ]
  },
  {
   "cell_type": "code",
   "execution_count": null,
   "metadata": {},
   "outputs": [],
   "source": [
    "xyz = 10\n",
    "my_function(xyz=30)"
   ]
  },
  {
   "cell_type": "markdown",
   "metadata": {},
   "source": [
    "## Scope of Variables\n",
    "All variables in a program may not be accessible at all locations in that program. This depends on where you have declared a variable. The scope of a variable determines the portion of the program where you can access a particular identifier. There are two basic scopes of variables in Python\n",
    "\n",
    "- Global variables\n",
    "- Local variables\n",
    "\n",
    "Variables that are defined inside a function body have a local scope, and those defined outside have a global scope. If the variable is defined as local, it will not be possible to be accessed once the function has returned, and therefore, only available within each call.\n",
    "\n",
    "This means that local variables can be accessed only inside the function in which they are declared, whereas global variables can be accessed throughout the program body by all functions. When you call a function, the variables declared inside it are brought into scope. \n",
    "\n"
   ]
  },
  {
   "cell_type": "code",
   "execution_count": null,
   "metadata": {},
   "outputs": [],
   "source": [
    "a = 1\n",
    "def my_function(a=a, b=2, **opt_kw):\n",
    "    # See the values of the parameter inside the function\n",
    "    print('value of a inside the function: {0}'.format(a))\n",
    "    print('value of b inside the function: {0}'.format(b))\n",
    "    print('value of the global variable zz is: {0}'.format(zz))\n",
    "    \n",
    "    c = a + b\n",
    "    print('value of the local variable c is: {0}'.format(c))\n",
    "    \n",
    "    return\n",
    "\n",
    "zz = 20\n",
    "my_function()\n",
    "\n",
    "# note that printing the variable c outside the function scope will \n",
    "# lead to an error as c is not defined outside the variable\n",
    "print(c)"
   ]
  },
  {
   "cell_type": "markdown",
   "metadata": {},
   "source": [
    "# Modules\n",
    "\n",
    "Modules are a way of storing functions which can be re-used from external files, and therefore, reducing the amount of lines within a script, or between them. So far you have used modules such as `numpy` or `matplotlib`. Keep in mind that to be able to use a module, the module has to be within the python path (`sys.path`), and in case its location is not available, it is possible to add it, by appending the location of the module to the path using the method `append`.\n",
    "\n",
    "Here you can visualise your own (python) path as:"
   ]
  },
  {
   "cell_type": "code",
   "execution_count": null,
   "metadata": {},
   "outputs": [],
   "source": [
    "import sys\n",
    "print(sys.path)"
   ]
  },
  {
   "cell_type": "markdown",
   "metadata": {},
   "source": [
    "As an example let us load the module `my_module`, which is located in the folder `my_module_folder`.\n",
    "\n",
    "To carry out this, first we need to add the `my_module_folder` to the python path, and then, proceed to use the statement `import` to have the module functions and constants."
   ]
  },
  {
   "cell_type": "code",
   "execution_count": null,
   "metadata": {},
   "outputs": [],
   "source": [
    "# we add the folder with the module to the python path\n",
    "sys.path.append('my_module_folder/')\n",
    "\n",
    "# After this we can import the module\n",
    "import my_module\n",
    "print(my_module)"
   ]
  },
  {
   "cell_type": "code",
   "execution_count": null,
   "metadata": {},
   "outputs": [],
   "source": [
    "# Let us use the functions in the module\n",
    "my_module.print_a()\n",
    "my_module.print_args(1,2,3,4)\n",
    "\n",
    "# Let us call a constant from the module\n",
    "print(my_module.c)"
   ]
  },
  {
   "cell_type": "markdown",
   "metadata": {},
   "source": [
    "# Exercises\n",
    "\n",
    "## Exercise 01 - tank function\n",
    "\n",
    "Make a function (named tank_model) that takes as input arguments:\n",
    "\n",
    "- precipitation at time t, \n",
    "- discharge at time t-1,\n",
    "- k, but make it default to 1.5\n",
    "\n",
    "and returns:\n",
    "- discharge at time t\n",
    "\n",
    "Use the same formula as in the transversal exercise\n",
    "\n",
    "to test the function, make sure it can run:\n",
    "\n",
    "    tank_model(0, 10)\n",
    "    tank_model(0, 10, 1.5)\n",
    "    \n",
    "    \n",
    "    "
   ]
  },
  {
   "cell_type": "code",
   "execution_count": null,
   "metadata": {
    "collapsed": true
   },
   "outputs": [],
   "source": [
    "# Make the function here"
   ]
  },
  {
   "cell_type": "markdown",
   "metadata": {},
   "source": [
    "## Exercise 02 - tank function +\n",
    "\n",
    "Now, using the previously created `tank_model`, create a new function (`tank_model_ts`) that takes as input arguments:\n",
    "\n",
    "- Precipitation time series (vector)\n",
    "- Boundary condition for discharge (Q0), but default as 10\n",
    "- k, but default at 1.5\n",
    "\n",
    "and that returns a time series of the discharge. To make sure it works, you can test your function with:\n",
    "    tank_model_ts([1,2,3,4])\n",
    "    tank_model_ts([1,2,3,4], 10)\n",
    "    tank_model_ts([1,2,3,4], 10, 1.5)\n",
    "\n"
   ]
  },
  {
   "cell_type": "code",
   "execution_count": null,
   "metadata": {
    "collapsed": true
   },
   "outputs": [],
   "source": [
    "# Make the function here"
   ]
  },
  {
   "cell_type": "markdown",
   "metadata": {},
   "source": [
    "## Exercise 03 - tank module\n",
    "\n",
    "As you have developed so far 2 functions, turn them into a module named `tank_module`. Remember that the file which has the functions (module) is the one used for the import. Also, do not forget that the file has to be a `py` file, and therefore, you will not be able to create it as a notebook. Instead, use Spyder to create the module.\n",
    "\n",
    "After creating the module, import it, and test it using:\n",
    "\n",
    "    tank_module.tank_model(0, 10)\n",
    "    \n"
   ]
  },
  {
   "cell_type": "code",
   "execution_count": null,
   "metadata": {
    "collapsed": true
   },
   "outputs": [],
   "source": [
    "# Build the module in spyder, and call it here\n"
   ]
  }
 ],
 "metadata": {
  "kernelspec": {
   "display_name": "Python 2",
   "language": "python",
   "name": "python2"
  },
  "language_info": {
   "codemirror_mode": {
    "name": "ipython",
    "version": 2
   },
   "file_extension": ".py",
   "mimetype": "text/x-python",
   "name": "python",
   "nbconvert_exporter": "python",
   "pygments_lexer": "ipython2",
   "version": "2.7.14"
  }
 },
 "nbformat": 4,
 "nbformat_minor": 2
}
