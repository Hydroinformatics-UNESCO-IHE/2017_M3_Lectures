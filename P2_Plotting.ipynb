{
 "cells": [
  {
   "cell_type": "markdown",
   "metadata": {},
   "source": [
    "# Part II Basic Plotting\n",
    "\n",
    "One of the main advantages of using PYTHON is its powerful and yet simple-to-use plotting capabilities. Mainly, plotting for scientific purposes is mainly done via matplotlib, which is a library that uses a Matlab-like interface to most of its functions. In its basic form, matplotlib is able quickly create visualisations of your data. However, the complete interface makes possible to increase the complexity of the plots to visualise almost anything. In this course we will focus on the basic functionalities, which are generally sufficient for scientific data visualisation.\n",
    "\n",
    "Examples of the capabilities of matplotlib (and also a good source of templates) is:\n",
    "\n",
    "https://matplotlib.org/gallery.html\n",
    "\n",
    "It is important to highlight that there exists several other libraries for plotting in Python, but Matplotlib is by far the most used in scientific visualisation."
   ]
  },
  {
   "cell_type": "code",
   "execution_count": 1,
   "metadata": {
    "collapsed": true
   },
   "outputs": [],
   "source": [
    "import numpy as np\n",
    "import matplotlib.pyplot as plt"
   ]
  },
  {
   "cell_type": "markdown",
   "metadata": {},
   "source": [
    "## 2.1 Generalities about plotting\n",
    "Before the data can be visualised, it has to be represented by internal variables of PYTHON. Normally, this process is called data importing if the data resides in an external file. Also the data is just the result of certain calculation by PYTHON so the latter case does not need data importing.\n",
    "\n",
    "Normally, this data importing procedure involves data conversion which is a specific topic we will cover later on. In this section, we mainly look at how to do plotting using existing variables or variables obtained directly from PYTHON calculation.\n",
    "\n",
    "After we have data represented by PYTHON variables, we can start plotting by issuing a series of instructions/programming. This is a non-interactive approach via which some advanced operation can be done.\n",
    "\n",
    "The Matplotlib interface for plotting is usually handled through matplotlib.pyplot, and shortened using the convention plt. To enable this library in your session, you must start by importing it as:\n",
    "\n",
    "    import matplotlib.pyplot as plt\n",
    "\n",
    "## 2.2 Plotting by Programming\n",
    "\n",
    "One of the common tasks of plotting, is to visualize a function of $y=f(x)$ or in some other cases a bunch of different functions against the same independent variable: $yi=fi(x)$. If we want to plot this (or these functions), the generic procedure is that:\n",
    "\n",
    "- To discrete the function into a set of points $(x1,y1), (x2,y2), …(xn, yn)$, these points are normally uniformly distributed along[x1 xn]. The number of points should be dense enough to capture the feature of the function.\n",
    "- The plot function will then be used to connect these points using specified line types, colors, marks etc.\n",
    "\n",
    "The main function of basic plotting in Matplotlib is plot. You may have a look at how it works\n",
    "\n"
   ]
  },
  {
   "cell_type": "code",
   "execution_count": 2,
   "metadata": {},
   "outputs": [
    {
     "name": "stdout",
     "output_type": "stream",
     "text": [
      "Help on function plot in module matplotlib.pyplot:\n",
      "\n",
      "plot(*args, **kwargs)\n",
      "    Plot lines and/or markers to the\n",
      "    :class:`~matplotlib.axes.Axes`.  *args* is a variable length\n",
      "    argument, allowing for multiple *x*, *y* pairs with an\n",
      "    optional format string.  For example, each of the following is\n",
      "    legal::\n",
      "    \n",
      "        plot(x, y)        # plot x and y using default line style and color\n",
      "        plot(x, y, 'bo')  # plot x and y using blue circle markers\n",
      "        plot(y)           # plot y using x as index array 0..N-1\n",
      "        plot(y, 'r+')     # ditto, but with red plusses\n",
      "    \n",
      "    If *x* and/or *y* is 2-dimensional, then the corresponding columns\n",
      "    will be plotted.\n",
      "    \n",
      "    If used with labeled data, make sure that the color spec is not\n",
      "    included as an element in data, as otherwise the last case\n",
      "    ``plot(\"v\",\"r\", data={\"v\":..., \"r\":...)``\n",
      "    can be interpreted as the first case which would do ``plot(v, r)``\n",
      "    using the default line style and color.\n",
      "    \n",
      "    If not used with labeled data (i.e., without a data argument),\n",
      "    an arbitrary number of *x*, *y*, *fmt* groups can be specified, as in::\n",
      "    \n",
      "        a.plot(x1, y1, 'g^', x2, y2, 'g-')\n",
      "    \n",
      "    Return value is a list of lines that were added.\n",
      "    \n",
      "    By default, each line is assigned a different style specified by a\n",
      "    'style cycle'.  To change this behavior, you can edit the\n",
      "    axes.prop_cycle rcParam.\n",
      "    \n",
      "    The following format string characters are accepted to control\n",
      "    the line style or marker:\n",
      "    \n",
      "    ================    ===============================\n",
      "    character           description\n",
      "    ================    ===============================\n",
      "    ``'-'``             solid line style\n",
      "    ``'--'``            dashed line style\n",
      "    ``'-.'``            dash-dot line style\n",
      "    ``':'``             dotted line style\n",
      "    ``'.'``             point marker\n",
      "    ``','``             pixel marker\n",
      "    ``'o'``             circle marker\n",
      "    ``'v'``             triangle_down marker\n",
      "    ``'^'``             triangle_up marker\n",
      "    ``'<'``             triangle_left marker\n",
      "    ``'>'``             triangle_right marker\n",
      "    ``'1'``             tri_down marker\n",
      "    ``'2'``             tri_up marker\n",
      "    ``'3'``             tri_left marker\n",
      "    ``'4'``             tri_right marker\n",
      "    ``'s'``             square marker\n",
      "    ``'p'``             pentagon marker\n",
      "    ``'*'``             star marker\n",
      "    ``'h'``             hexagon1 marker\n",
      "    ``'H'``             hexagon2 marker\n",
      "    ``'+'``             plus marker\n",
      "    ``'x'``             x marker\n",
      "    ``'D'``             diamond marker\n",
      "    ``'d'``             thin_diamond marker\n",
      "    ``'|'``             vline marker\n",
      "    ``'_'``             hline marker\n",
      "    ================    ===============================\n",
      "    \n",
      "    \n",
      "    The following color abbreviations are supported:\n",
      "    \n",
      "    ==========  ========\n",
      "    character   color\n",
      "    ==========  ========\n",
      "    'b'         blue\n",
      "    'g'         green\n",
      "    'r'         red\n",
      "    'c'         cyan\n",
      "    'm'         magenta\n",
      "    'y'         yellow\n",
      "    'k'         black\n",
      "    'w'         white\n",
      "    ==========  ========\n",
      "    \n",
      "    In addition, you can specify colors in many weird and\n",
      "    wonderful ways, including full names (``'green'``), hex\n",
      "    strings (``'#008000'``), RGB or RGBA tuples (``(0,1,0,1)``) or\n",
      "    grayscale intensities as a string (``'0.8'``).  Of these, the\n",
      "    string specifications can be used in place of a ``fmt`` group,\n",
      "    but the tuple forms can be used only as ``kwargs``.\n",
      "    \n",
      "    Line styles and colors are combined in a single format string, as in\n",
      "    ``'bo'`` for blue circles.\n",
      "    \n",
      "    The *kwargs* can be used to set line properties (any property that has\n",
      "    a ``set_*`` method).  You can use this to set a line label (for auto\n",
      "    legends), linewidth, anitialising, marker face color, etc.  Here is an\n",
      "    example::\n",
      "    \n",
      "        plot([1,2,3], [1,2,3], 'go-', label='line 1', linewidth=2)\n",
      "        plot([1,2,3], [1,4,9], 'rs',  label='line 2')\n",
      "        axis([0, 4, 0, 10])\n",
      "        legend()\n",
      "    \n",
      "    If you make multiple lines with one plot command, the kwargs\n",
      "    apply to all those lines, e.g.::\n",
      "    \n",
      "        plot(x1, y1, x2, y2, antialiased=False)\n",
      "    \n",
      "    Neither line will be antialiased.\n",
      "    \n",
      "    You do not need to use format strings, which are just\n",
      "    abbreviations.  All of the line properties can be controlled\n",
      "    by keyword arguments.  For example, you can set the color,\n",
      "    marker, linestyle, and markercolor with::\n",
      "    \n",
      "        plot(x, y, color='green', linestyle='dashed', marker='o',\n",
      "             markerfacecolor='blue', markersize=12).\n",
      "    \n",
      "    See :class:`~matplotlib.lines.Line2D` for details.\n",
      "    \n",
      "    The kwargs are :class:`~matplotlib.lines.Line2D` properties:\n",
      "    \n",
      "      agg_filter: unknown\n",
      "      alpha: float (0.0 transparent through 1.0 opaque) \n",
      "      animated: [True | False] \n",
      "      antialiased or aa: [True | False] \n",
      "      axes: an :class:`~matplotlib.axes.Axes` instance \n",
      "      clip_box: a :class:`matplotlib.transforms.Bbox` instance \n",
      "      clip_on: [True | False] \n",
      "      clip_path: [ (:class:`~matplotlib.path.Path`, :class:`~matplotlib.transforms.Transform`) | :class:`~matplotlib.patches.Patch` | None ] \n",
      "      color or c: any matplotlib color \n",
      "      contains: a callable function \n",
      "      dash_capstyle: ['butt' | 'round' | 'projecting'] \n",
      "      dash_joinstyle: ['miter' | 'round' | 'bevel'] \n",
      "      dashes: sequence of on/off ink in points \n",
      "      drawstyle: ['default' | 'steps' | 'steps-pre' | 'steps-mid' | 'steps-post'] \n",
      "      figure: a :class:`matplotlib.figure.Figure` instance \n",
      "      fillstyle: ['full' | 'left' | 'right' | 'bottom' | 'top' | 'none'] \n",
      "      gid: an id string \n",
      "      label: string or anything printable with '%s' conversion. \n",
      "      linestyle or ls: ['solid' | 'dashed', 'dashdot', 'dotted' | (offset, on-off-dash-seq) | ``'-'`` | ``'--'`` | ``'-.'`` | ``':'`` | ``'None'`` | ``' '`` | ``''``]\n",
      "      linewidth or lw: float value in points \n",
      "      marker: :mod:`A valid marker style <matplotlib.markers>`\n",
      "      markeredgecolor or mec: any matplotlib color \n",
      "      markeredgewidth or mew: float value in points \n",
      "      markerfacecolor or mfc: any matplotlib color \n",
      "      markerfacecoloralt or mfcalt: any matplotlib color \n",
      "      markersize or ms: float \n",
      "      markevery: [None | int | length-2 tuple of int | slice | list/array of int | float | length-2 tuple of float]\n",
      "      path_effects: unknown\n",
      "      picker: float distance in points or callable pick function ``fn(artist, event)`` \n",
      "      pickradius: float distance in points \n",
      "      rasterized: [True | False | None] \n",
      "      sketch_params: unknown\n",
      "      snap: unknown\n",
      "      solid_capstyle: ['butt' | 'round' |  'projecting'] \n",
      "      solid_joinstyle: ['miter' | 'round' | 'bevel'] \n",
      "      transform: a :class:`matplotlib.transforms.Transform` instance \n",
      "      url: a url string \n",
      "      visible: [True | False] \n",
      "      xdata: 1D array \n",
      "      ydata: 1D array \n",
      "      zorder: any number \n",
      "    \n",
      "    kwargs *scalex* and *scaley*, if defined, are passed on to\n",
      "    :meth:`~matplotlib.axes.Axes.autoscale_view` to determine\n",
      "    whether the *x* and *y* axes are autoscaled; the default is\n",
      "    *True*.\n",
      "    \n",
      "    Notes\n",
      "    -----\n",
      "    \n",
      "    In addition to the above described arguments, this function can take a\n",
      "    **data** keyword argument. If such a **data** argument is given, the\n",
      "    following arguments are replaced by **data[<arg>]**:\n",
      "    \n",
      "    * All arguments with the following names: 'y', 'x'.\n",
      "    \n",
      "    \n",
      "    \n",
      "    \n",
      "    Additional kwargs: hold = [True|False] overrides default hold state\n",
      "\n"
     ]
    }
   ],
   "source": [
    "## Action 2.1\n",
    "# Here we display the help file of the plot module in matplotlib\n",
    "help(plt.plot)"
   ]
  },
  {
   "cell_type": "markdown",
   "metadata": {},
   "source": [
    "As you can see, it is a rather complicated and powerful function able to receive many optional parameters. The simplest form of using this function is rather straight forward: \n",
    "\n",
    "    plt.plot(x,y)\n",
    "\n",
    "where $x$ and $y$ are two vectors representing discretised independent variable $x$ and dependent variable $y$.\n",
    "\n",
    "### 2.2.1 Basic plot\n",
    "\n",
    "Now let's start with an easiest one. Once again we plot a sine function over the interval $[0, 2\\pi]$. \n",
    "First, to discretise (sampling) the independent variable $x$. Second, calculate the value of $y$ using the $sin$ function as:\n",
    "\n",
    "    np.sin(x)\n",
    "\n",
    "Finally plot the results and display it in the screen."
   ]
  },
  {
   "cell_type": "code",
   "execution_count": 3,
   "metadata": {},
   "outputs": [
    {
     "data": {
      "image/png": "[encoded data removed]",
      "text/plain": [
       "<matplotlib.figure.Figure at 0x60e3748>"
      ]
     },
     "metadata": {},
     "output_type": "display_data"
    }
   ],
   "source": [
    "# Action 2.2\n",
    "# Get the values (of x) for the plot of the function\n",
    "x = np.arange(0.0, 2.0*np.pi, np.pi/100.0)\n",
    "\n",
    "# Calculate the value of the sin function for every x\n",
    "y = np.sin(x)\n",
    "\n",
    "# Make a line plot to show the values of x and y\n",
    "plt.plot(x, y)\n",
    "\n",
    "# Display the plot\n",
    "plt.show()"
   ]
  },
  {
   "cell_type": "markdown",
   "metadata": {},
   "source": [
    "### 2.2.2 Customizing line types\n",
    "As you have seen, the plot by default is in blue, solid line and no marks. You may wish to customize the line type. In Matplotlib is possible to use arguments for each of these items. The plot function accepts variables such as:\n",
    "\n",
    "    linestyle\n",
    "    linewidth\n",
    "    marker\n",
    "    markersize\n",
    "    color\n",
    "    \n",
    "Now try to supply this extra parameter to plot function."
   ]
  },
  {
   "cell_type": "code",
   "execution_count": 4,
   "metadata": {},
   "outputs": [
    {
     "data": {
      "image/png": "[encoded data removed]",
      "text/plain": [
       "<matplotlib.figure.Figure at 0x817ea20>"
      ]
     },
     "metadata": {},
     "output_type": "display_data"
    }
   ],
   "source": [
    "#Action 2.3\n",
    "\n",
    "# Make a plot with different specifications of the line plot\n",
    "plt.plot([1.1, 3.0, 4.0], [6.0, 8.1, 5.0], \n",
    "         linestyle='--', \n",
    "         linewidth= 5.0, \n",
    "         marker='o', \n",
    "         markersize=20,\n",
    "         color='r', )\n",
    "plt.show()\n",
    "#  you will see a red dashed line plot marked by circles at each data point for this case in particular."
   ]
  },
  {
   "cell_type": "markdown",
   "metadata": {},
   "source": [
    "    Line style '--' : dashed line\n",
    "    Line colour 'r' : red`\n",
    "    Mark type 'o': circles\n",
    "\n",
    "If the parameters are not directly specified, Matplotlib will define them from the standard values. For completeness, the following table show the meaning of some of the different characters (used as abbreviations) to access the different properties of the plot. Color definitions can also be given in form of HEX value (https://www.w3schools.com/colors/colors_picker.asp) as string\n",
    "\n",
    "Table 1: Some markers, line style and colors for line plots\n",
    "\n",
    "| Marker | Description |Line style | Description | Color index | Color |\n",
    "| :----: | :----: |:----: | :----: | :----: | :----: |\n",
    "| '.' | point |'-' | continuos | 'b' | blue |\n",
    "| ',' | pixel |'--' | dashed | 'g' | green |\n",
    "| 'o' | circle |'-.' | dash-dot | 'r' | red |\n",
    "| 'v' | triangle_down |':' | dotted | 'c' | cyan |\n",
    "| '^' | triangle_up | |  | 'm' | magenta |\n",
    "| '<' | triangle_left | |  | 'y' | yellow |\n",
    "| '>' | triangle_right | |  | 'k' | black |\n",
    "| '1' | tri_down | |  | 'w' | white |\n",
    "| '2' | tri_up | |  |  |  |\n",
    "| '3' | tri_left | |  |  |  |\n",
    "| '4' | tri_right | |  |  |  |\n",
    "| '8' | octagon | |  |  |  |\n",
    "| 's' | square | |  |  |  |\n",
    "| 'p' | pentagon | |  |  |  |\n",
    "| 'P' | plus (filled) | |  |  |  |\n",
    "| '*' | star | |  |  |  |\n",
    "| 'h' | hexagon1 | |  |  |  |\n",
    "| 'H' | hexagon2 | |  |  |  |\n",
    "| '+' | plus | |  |  |  |\n",
    "| 'x' | x | |  |  |  |\n",
    "| 'X' | x (filled) | |  |  |  |\n",
    "| 'D' | diamond | |  |  |  |\n",
    "| 'd' | thin_diamond | |  |  |  |\n",
    "| '_' | hline | |  |  |  |\n",
    "\n"
   ]
  },
  {
   "cell_type": "markdown",
   "metadata": {},
   "source": [
    "## Exercise 2.1\n",
    "Plot the function $y=cos(x)$ over the interval $[-\\pi, \\pi]$ in green dashdot line.\n",
    "\n",
    "Another question you may raise is how to change the line width. This is done by using a pair of parameters: the property name (in our case `linewidth`) and the value to set that property."
   ]
  },
  {
   "cell_type": "code",
   "execution_count": 5,
   "metadata": {
    "collapsed": true
   },
   "outputs": [],
   "source": [
    "# Action 2.4\n",
    "\n",
    "# calculate the values (x) for the range between -pi and pi\n",
    "\n",
    "# Calculate the values (y) of the cos(x)\n",
    "\n",
    "# plot the results [x, y]\n",
    "\n",
    "# display the plot"
   ]
  },
  {
   "cell_type": "markdown",
   "metadata": {},
   "source": [
    "So you will see a thicker plot. Feel free to explore other line types, colors and markers.\n",
    "\n",
    "### 2.2.3 Titles and labels\n",
    "Titles and labels can be easily added using title `plt.title` (for title), `plt.xlabel` (for horizontal axis) and `plt.ylabel` (for vertical axis). The functions receive a string as input argument. Additionally, it is possible to pass Latex-type formulas, by declaring them between $ symbols."
   ]
  },
  {
   "cell_type": "code",
   "execution_count": 6,
   "metadata": {},
   "outputs": [
    {
     "data": {
      "image/png": "[encoded data removed]",
      "text/plain": [
       "<matplotlib.figure.Figure at 0x830e2b0>"
      ]
     },
     "metadata": {},
     "output_type": "display_data"
    }
   ],
   "source": [
    "# Action 2.5\n",
    "# Get the values for the plot of the function\n",
    "x = np.arange(0.0, 2.0*np.pi, np.pi/100.0)\n",
    "\n",
    "# Calculate (y) the value of the sin function for every x\n",
    "\n",
    "\n",
    "# Make a line plot to show the values of x and y\n",
    "\n",
    "\n",
    "# set the title\n",
    "plt.title('function $sin(x)$')\n",
    "\n",
    "# set the (x and y) axis legend\n",
    "plt.xlabel('x')\n",
    "plt.ylabel('sin(x)')\n",
    "\n",
    "# Display the plot\n",
    "plt.show()"
   ]
  },
  {
   "cell_type": "markdown",
   "metadata": {},
   "source": [
    "### 2.2.4 Customizing axes\n",
    "The default setting of axes in a plot might be already good enough. However, you may also want to improve a bit. The main command for this purpose is axis.\n",
    "\n",
    "To set the exact ranges for x- and y-axis (rather than accept the automatically set one), you can use\n",
    "\n",
    "    plt.axis([xmin, xmax, ymin, ymax])\n",
    "    \n",
    "Alternatively, it is possible to only set one axis at the time using the commands\n",
    "\n",
    "    plt.xlim(xmin, xmax)\n",
    "    plt.ylim(ymin, ymax)\n",
    "    "
   ]
  },
  {
   "cell_type": "code",
   "execution_count": 7,
   "metadata": {},
   "outputs": [
    {
     "data": {
      "image/png": "[encoded data removed]",
      "text/plain": [
       "<matplotlib.figure.Figure at 0x830e4a8>"
      ]
     },
     "metadata": {},
     "output_type": "display_data"
    }
   ],
   "source": [
    "# Action 2.6\n",
    "\n",
    "# get the values for x and y as described in the previous exercise\n",
    "\n",
    "# Make the plot\n",
    "\n",
    "\n",
    "# Now let's set the range of x exactly to [0, 2π], and y[-1.0, 1.0]\n",
    "plt.axis([0, 2*np.pi, -1, 1])\n",
    "\n",
    "# Display the figure\n",
    "plt.show()"
   ]
  },
  {
   "cell_type": "markdown",
   "metadata": {},
   "source": [
    "## Exercise 2.2\n",
    "\n",
    "Plot the $sin(x)$ function again using `plt.plot(x, y)`, and then use `plt.xlim` and `plt.ylim` to set the axis. Double check if the resultant is the same we produced previously."
   ]
  },
  {
   "cell_type": "code",
   "execution_count": 8,
   "metadata": {},
   "outputs": [],
   "source": [
    "# Action 2.6\n",
    "\n",
    "# Make the plot\n",
    "\n",
    "# Adjust the axis using plt.xlim and plt.ylim\n",
    "\n",
    "# Show the plot\n",
    "plt.show()"
   ]
  },
  {
   "cell_type": "markdown",
   "metadata": {},
   "source": [
    "### 2.2.4 Put grids on\n",
    "\n",
    "Other software like Excel produce plot with grids as background by default. If you like that, you can use plt.grid() to switch between on/off of the grids.\n",
    "\n",
    "Note that if you use the command twice, the grid will turn off.\n"
   ]
  },
  {
   "cell_type": "code",
   "execution_count": 9,
   "metadata": {},
   "outputs": [
    {
     "data": {
      "image/png": "[encoded data removed]",
      "text/plain": [
       "<matplotlib.figure.Figure at 0x825a7f0>"
      ]
     },
     "metadata": {},
     "output_type": "display_data"
    }
   ],
   "source": [
    "# Action 2.6\n",
    "\n",
    "\n",
    "# Make the plot\n",
    "\n",
    "\n",
    "# Now let's set the range of x exactly to [0, 2π], and y[-1.0, 1.0]\n",
    "\n",
    "\n",
    "# Call the grid in the background\n",
    "plt.grid()\n",
    "\n",
    "# Display the figure\n",
    "plt.show()"
   ]
  },
  {
   "cell_type": "markdown",
   "metadata": {},
   "source": [
    "### 2.2.5 Multiple plots\n",
    "Sometimes, you want to compare several process/functions on the same plot. In this case, multiple plots will be overlapped on one another. It is recommended that all data is passed before opening a new plot. To open a new plot, it is possible to use the command\n",
    "\n",
    "    plt.figure()\n",
    "\n",
    "or is also possible to automatically create one after displaying (using the `plt.show()`) the previous figure"
   ]
  },
  {
   "cell_type": "code",
   "execution_count": 10,
   "metadata": {},
   "outputs": [
    {
     "data": {
      "image/png": "[encoded data removed]",
      "text/plain": [
       "<matplotlib.figure.Figure at 0x817e828>"
      ]
     },
     "metadata": {},
     "output_type": "display_data"
    },
    {
     "data": {
      "image/png": "[encoded data removed]",
      "text/plain": [
       "<matplotlib.figure.Figure at 0x830ee48>"
      ]
     },
     "metadata": {},
     "output_type": "display_data"
    }
   ],
   "source": [
    "# Action 2.7\n",
    "x = np.arange(0.0, 2.0*np.pi, np.pi/100.0)\n",
    "y1 = np.sin(x);\n",
    "y2 = np.sin(x+np.pi/2);\n",
    "\n",
    "# Draw both figures and then display them\n",
    "# Make first plot \n",
    "# Make second plot\n",
    "plt.show()\n",
    "\n",
    "# Create one figure, at the time and display them at the end\n",
    "plt.plot(x, y1)\n",
    "plt.figure()\n",
    "\n",
    "plt.plot(x, y2)\n",
    "plt.show()"
   ]
  },
  {
   "cell_type": "markdown",
   "metadata": {},
   "source": [
    "### 2.2.5 Add legends\n",
    "\n",
    "Since we produced multiple plots on the same figure, it is sometimes necessary to use legends to differentiate them. for clarity, in Matplotlib is possible to assign labels to each plot, which will be rendered at the end by the legend.\n",
    "\n",
    "    plt.legend()\n",
    "    \n",
    "Among the inputs of the one that controls the position of the legend in the screen (`loc`). The value of this property is an integer. A more detailed description of the legend function is presented in https://matplotlib.org/users/legend_guide.html\n",
    "\n",
    "please interact with the position of the legend to explore its behaviour."
   ]
  },
  {
   "cell_type": "code",
   "execution_count": 11,
   "metadata": {},
   "outputs": [
    {
     "data": {
      "image/png": "[encoded data removed]",
      "text/plain": [
       "<matplotlib.figure.Figure at 0x8268cc0>"
      ]
     },
     "metadata": {},
     "output_type": "display_data"
    }
   ],
   "source": [
    "# Action 2.9\n",
    "plt.plot(x, y1, 'r', label='$sin(x)$')\n",
    "plt.plot(x,y2, '--g', label='$sin(x+\\pi/2)$');\n",
    "plt.legend(loc=10)\n",
    "plt.show()"
   ]
  },
  {
   "cell_type": "markdown",
   "metadata": {},
   "source": [
    "### 2.2.6 Define the figure size\n",
    "\n",
    "By defining the size of the figure, it is possible to control the way it relates to the final printed outcome, as well as with the real size of the fonts in the display. If the size of the figure is correctly displayed, it will be ensured that the size of the characters inside this function corresponds to such of your document or presentation, including titles, legends and ticks. Also, it will control the aspect ratio of the figure.\n",
    "\n",
    "To select the size of the figure, it has to be passed as:\n",
    "    \n",
    "    plt.figure(figsize=[x, y])\n",
    "    \n",
    "Where `x` and `y` are the size of the figure in the horizontal and vertical directions in inches (sorry). For example, we will create the same figure at three different sizes"
   ]
  },
  {
   "cell_type": "code",
   "execution_count": 12,
   "metadata": {},
   "outputs": [
    {
     "data": {
      "image/png": "[encoded data removed]",
      "text/plain": [
       "<matplotlib.figure.Figure at 0x9187358>"
      ]
     },
     "metadata": {},
     "output_type": "display_data"
    }
   ],
   "source": [
    "# Squared plot\n",
    "plt.figure(figsize=[3,3])\n",
    "plt.plot(x, y1, 'r', label='$sin(x)$')\n",
    "plt.plot(x,y2, '--g', label='$sin(x+\\pi/2)$');\n",
    "plt.legend(loc=10)\n",
    "plt.show()\n",
    "\n",
    "# Make larger figure\n",
    "\n",
    "# Make smaller figure"
   ]
  },
  {
   "cell_type": "markdown",
   "metadata": {},
   "source": [
    "Note that \\pi is used to show the symbol of π and in fact you can use Latex syntax to produce match symbols.\n",
    "\n",
    "### 2.2.5 subplots \n",
    "It is also common to compare function plots side by side rather than overlapping the plots. The concept of subplot is very helpful in this case. The idea is that we split the drawing area of a figure into a matrix of sub-areas and then choose one of the subareas for plotting; then we can choose another one for another plot and so and so forth. This procedure of choosing outputs sub-area is done by using subplot command\n",
    "\n",
    "    plt.subplot(m,n,k)\n",
    "    \n",
    "define a m (row) by n (column) subareas and choose the kth subarea for output."
   ]
  },
  {
   "cell_type": "code",
   "execution_count": 13,
   "metadata": {},
   "outputs": [
    {
     "name": "stderr",
     "output_type": "stream",
     "text": [
      "C:\\ProgramData\\Anaconda2\\lib\\site-packages\\matplotlib\\axes\\_axes.py:531: UserWarning: No labelled objects found. Use label='...' kwarg on individual plots.\n",
      "  warnings.warn(\"No labelled objects found. \"\n"
     ]
    },
    {
     "data": {
      "image/png": "[encoded data removed]",
      "text/plain": [
       "<matplotlib.figure.Figure at 0x94977b8>"
      ]
     },
     "metadata": {},
     "output_type": "display_data"
    }
   ],
   "source": [
    "# Action 2.10\n",
    "x = np.arange(0.0, 2.0*np.pi, np.pi/100.0)\n",
    "y1 = np.sin(x)\n",
    "y2 = np.cos(x)\n",
    "\n",
    "plt.subplot(2,1, 1)\n",
    "# Make plot\n",
    "plt.legend()\n",
    "\n",
    "plt.subplot(2,1,2)\n",
    "# Make plot\n",
    "plt.show()"
   ]
  },
  {
   "cell_type": "markdown",
   "metadata": {},
   "source": [
    "## 2.3 Save your figures\n",
    "You can always recreate figures as long as you keep all the commands/functions you have used. You just need to re-run this batch of commands to produce the figures. It is also possible to create your own libraries and functions to automate plotting tasks for recurrent tasks.\n",
    "\n",
    "Finally, the figures require to be saved into a given format, so they can be later used in your documents and presentations. To save the current figure it is possible to use:\n",
    "    \n",
    "    plt.savefig('path\\file_name.png')\n",
    "    \n",
    "By default, the `plt.savefig` command will save the current figure, in the destiation given by the filename. This filename can also be a path to a specific location in your computer. Additionally, by specifiying the extension of the file to be saved, it automatically instructs Matplotlib to save it as such.\n",
    "\n",
    "Finally, it is possible to specify the resolution by setting the `dpi` parameter. Most journals require a resolution higher than 300dpi.\n"
   ]
  },
  {
   "cell_type": "code",
   "execution_count": 14,
   "metadata": {},
   "outputs": [
    {
     "data": {
      "text/plain": [
       "<matplotlib.figure.Figure at 0x8085dd8>"
      ]
     },
     "metadata": {},
     "output_type": "display_data"
    }
   ],
   "source": [
    "# Action 2.11\n",
    "# Save the figure with\n",
    "\n",
    "# Make plot\n",
    "plt.savefig('myfig.png', dpi=400)\n",
    "plt.show()\n"
   ]
  }
 ],
 "metadata": {
  "kernelspec": {
   "display_name": "Python 2",
   "language": "python",
   "name": "python2"
  },
  "language_info": {
   "codemirror_mode": {
    "name": "ipython",
    "version": 2
   },
   "file_extension": ".py",
   "mimetype": "text/x-python",
   "name": "python",
   "nbconvert_exporter": "python",
   "pygments_lexer": "ipython2",
   "version": "2.7.14"
  }
 },
 "nbformat": 4,
 "nbformat_minor": 2
}
