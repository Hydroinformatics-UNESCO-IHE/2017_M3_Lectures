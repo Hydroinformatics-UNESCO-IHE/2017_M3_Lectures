{
 "cells": [
  {
   "cell_type": "markdown",
   "metadata": {},
   "source": [
    "# Part I: PYTHON Essentials\n",
    "\n",
    "Python was developed by the Dutch programmer Guido Van Rossum, who named the language after a BBC comedy series from the seventies \"Monty Python's Flying Circus\". The easy-to-use and nearly no prerequisite for programming knowledge made it widely accepted by the scientific community. Nowadays, PYTHON has become one of the most powerful tools favoured by many scientists, researchers and engineers. The large community of PYTHON developers and the free, opened nature of the language, adds to its intuitive language features and user-friendly GUI endless possibilities, from fast prototyping to complex applications. It is rather safely to say that most engineering graduates have learned PYTHON during their university stay. So it would be more convenient for you in your research or other engineering career line if you have obtained the knowledge of using PYTHON and programming with it. \n",
    "\n",
    "## Running PYTHON from the CMD\n",
    "\n",
    "Certain software packages use PYTHON to run. This means that if you have installed one of those packages in the past, you may have already a version of PYTHON installed in your laptop.  How to know? Simply:\n",
    "Open a command prompt window (press Windows+R, type in cmd, and hit enter)\n",
    "\n",
    "Type python into the resulting prompt and see if you get an error or not. If you get a prompt such as the one in the screenshot below, then you have PYTHON installed.\n",
    "\n",
    "![](figures\\CMD_python.png)\n",
    "\n",
    "Type:\n",
    "    \n",
    "    print(\"Hello world\") \n",
    "\n",
    "and observe what happens."
   ]
  },
  {
   "cell_type": "code",
   "execution_count": 1,
   "metadata": {
    "collapsed": true
   },
   "outputs": [],
   "source": [
    "# Try here your code!\n",
    "\n"
   ]
  },
  {
   "cell_type": "markdown",
   "metadata": {},
   "source": [
    "Although it is possible to code using the Windows CMD, the use of a more advanced, graphical editor is convenient. As the PYTHON community is very big an active, there are many options to get editors. In this introduction we will use Anaconda.\n",
    "Installing PYTHON Anaconda\n",
    "\n",
    "Download Anaconda (https://www.continuum.io/downloads) for Windows. Anaconda is a community that keeps ready Python packages for scientific uses. \n",
    "\n",
    "The downloaded file installs Anaconda Navigator, a tool to help configuring the PYTHON environment (including libraries depending on the version), which looks like the screenshot below: \n",
    "\n",
    "![](figures\\Anaconda_download.png)\n",
    "\n",
    "The downloaded file also installs basic libraries (such as Numpy, Scipy, Pandas, etc) and also installs Spyder (Interactive Development Environment, which is an user interface to help the code development). "
   ]
  },
  {
   "cell_type": "markdown",
   "metadata": {},
   "source": [
    "## 1.1 Introduction to PYTHON environment (Spyder)\n",
    "\n",
    "Although PYTHON is much easier to use and to program with than other language programmes, it does not mean that no efforts are needed to become an experienced user/programmer. Please observe the following points:\n",
    "Participants who don't have any programming experience before may need to focus on how to transform the (human-speaking) mathematical language to the language understood by PYTHON.\n",
    "\n",
    "Participants with experience in at least one computer languages may find PYTHON language neat and convenient.\n",
    "\n",
    "Action 1.1 Now, have a look at the basic interface of PYTHON (Spyder). You may start the program by clicking Windows’ Start button and then write down “Spyder”. You should be able to see the Spyder (Python) window as below. \n",
    "\n",
    "![](figures\\Spyder_gui.png)\n",
    "\n",
    "Note that the Python Interface is divided into many sub-windows, called panes, that are very important to introduce:\n",
    "Python console: This pane is the place where PYTHON receives instructions from the user and where the output is written back. People experienced with Matlab can think about the Python console as the Matlab’s console.\n",
    "\n",
    "File explorer: This pane shows the content of the folder where you are currently working. You can create and access subfolders in this window, rename files, etc. You can also navigate to other places if you like. If the files shown in your working directory can be opened by PYTHON, you can try to open it by double clicking it. People experienced with Matlab can think about the File explorer as the Matlab’s Current Folder.\n",
    "\n",
    "Variable Explorer: You can click the TAB Variable Explorer to show this pane. It shows the variables currently residing in the memory and accessible by commands (and programs as well). The variable type, its size and value are also shown there. You may even produce plots directly from the variable, as we will discuss later. People experienced with Matlab can think about the File explorer as the Matlab’s Workspace\n",
    "\n",
    "History log: The history log is one of the tabs in the bottom right of the screen by default. This pane contains all the commands typed in by user in the console. It allows you to check the previously typed commands, and copy one or more of them. People experienced with Matlab can think about the History log as the Matlab’s Command History.\n",
    "Editor: Pane located by default in the left side of the screen. Here is where code is written and saved in files of the type .py.\n",
    "\n",
    "All these panes can be minimized, maximized and closed.\n",
    "\n",
    "Note\n",
    "If you close a pane by accident, you will always be able to open it in the menu View - Panes. You can also choose one of the predefined pane layouts in the View menu.\n",
    "\n",
    "#### Action 1.2 \n",
    "Try to close the Python Console. Then reset to the default Spyder layout.\n",
    "\n",
    "#### Action 1.3 \n",
    "Navigate to various locations via the File Explorer pane. Note that you can browse different folders. Right click to see the available options. \n",
    "\n",
    "#### Action 1.4 \n",
    "Observe the Python Console pane and the History log pane.\n",
    "\n",
    "In the Python Console, type in the following command.\n",
    "    \n",
    "    11+7"
   ]
  },
  {
   "cell_type": "code",
   "execution_count": 2,
   "metadata": {
    "collapsed": true
   },
   "outputs": [],
   "source": [
    "# type here your code!\n",
    "\n"
   ]
  },
  {
   "cell_type": "markdown",
   "metadata": {},
   "source": [
    "Repeat the same using the IPython Console. Do not type the “In [1]:”, as this is the prompt. The value will increase as new commands are typed)\n",
    "\n",
    "    7+11"
   ]
  },
  {
   "cell_type": "code",
   "execution_count": 3,
   "metadata": {
    "collapsed": true
   },
   "outputs": [],
   "source": [
    "# type here your code!\n",
    "\n"
   ]
  },
  {
   "cell_type": "markdown",
   "metadata": {},
   "source": [
    "Describe what happens in both consoles, the History log and the Variable Explorer panes.\n",
    "\n",
    "Type `sqrt(2)` in the IPython console. What do you expect to get?\n",
    "    \n",
    "    sqrt(2)"
   ]
  },
  {
   "cell_type": "code",
   "execution_count": 4,
   "metadata": {
    "collapsed": true
   },
   "outputs": [],
   "source": [
    "# type here your code!\n",
    "\n"
   ]
  },
  {
   "cell_type": "markdown",
   "metadata": {},
   "source": [
    "Note that you get the following:\n",
    "NameError: name `'sqrt'` is not defined\n",
    "\n",
    "We get this error because Python does not find a reference to the function `sqrt()`, but fortunately this does not mean that we can not perform more serious mathematical evaluations. What we need to do is to “import” a special module or library. There are modules for all kinds of purposes developed by the Python community. One of the most used libraries is called NumPy, which allows for fast mathematical operations over arrays, linear algebra, Fourier transforms, random number generation and more. To use the Numpy libraries, follow action 1.5..\n",
    "\n",
    "#### Action 1.5 \n",
    "Import the NumPy library by typing the following:\n",
    "\n",
    "    import numpy as np"
   ]
  },
  {
   "cell_type": "code",
   "execution_count": 5,
   "metadata": {
    "collapsed": true
   },
   "outputs": [],
   "source": [
    "# type here your code!\n"
   ]
  },
  {
   "cell_type": "markdown",
   "metadata": {},
   "source": [
    "#### Action 1.6 \n",
    "Now try again \"sqrt(2)\" in the IPython console. What do you get?\n",
    "\n",
    "    sqrt(2)"
   ]
  },
  {
   "cell_type": "code",
   "execution_count": 6,
   "metadata": {
    "collapsed": true
   },
   "outputs": [],
   "source": [
    "# type here your code!\n"
   ]
  },
  {
   "cell_type": "markdown",
   "metadata": {},
   "source": [
    "#### Action 1.7 \n",
    "Now try the following. Can you explain what is the link between the sqrt command and the NumPy library?\n",
    "\n",
    "    np.sqrt(2)\n",
    "    1.4142135623730951"
   ]
  },
  {
   "cell_type": "code",
   "execution_count": 7,
   "metadata": {
    "collapsed": true
   },
   "outputs": [],
   "source": [
    "# type here your code!\n"
   ]
  },
  {
   "cell_type": "markdown",
   "metadata": {},
   "source": [
    "Note that we need to add np. before the actual command. This is because the sqrt command is contained in the NumPy library, which is now being called throughout the variable np in the moment we performed Action 1.5.\n",
    "\n",
    "Exercise 1.1 Use a PYTHON expression to calculate the cosine of $\\pi$/3\n",
    "\n",
    "As you can see, the NumPy library of PYTHON can be used , for example, to calculate the square root (`sqrt`) of a number. In fact there are many elementary functions that you can simply type the same way as its mathematical form, like: \n",
    "    \n",
    "    sin \n",
    "    cos \n",
    "    exp \n",
    "    round \n",
    "    log \n",
    "    log10\n",
    "\n",
    "Note: The number  cannot be represented exactly as a floating-point number, which means that np.radians(180) is not exactly π, but 3.1415926535897931. And sin(3.1415926535897931) is something like 1.22e-16, instead of 0.\n",
    "\n",
    "Another aspect about calculating is to build mathematical expressions. Fortunately, we can build these expressions in a similar way as that in plain math, just with a few exceptions in operators:\n",
    "\n",
    "    Plus: + \n",
    "    Minus: -\n",
    "    Duplication: * \n",
    "    Division: /\n",
    "    Power: **\n",
    "    Brackets: ()\n",
    "\n",
    "Note: Remember to first import a math-related library such as numpy, math, scipy, etc., as you did in Action 1.5 and use them as you did in Action 1.7. Also, it is important to remember that depending on the data type, these operators mean different operations (e.g. `+` in strings is used to concatenate)\n",
    "\n",
    "Numbers can be entered either as plain numbers such as 8000, -8.0, or in scientific format, such as 3e10 (3x1010) or 3e-10 (3.0x10^-10)."
   ]
  },
  {
   "cell_type": "markdown",
   "metadata": {},
   "source": [
    "## Exercise 1.1 \n",
    "\n",
    "Use the IPython console to find out how many seconds in a 365-day year. Write down your expression below before run it in the console"
   ]
  },
  {
   "cell_type": "code",
   "execution_count": 8,
   "metadata": {
    "collapsed": true
   },
   "outputs": [],
   "source": [
    "# type here your code!\n"
   ]
  },
  {
   "cell_type": "markdown",
   "metadata": {},
   "source": [
    "### Exercise 1.2 \n",
    "The Earth can be approximated as a sphere with a radius of 6370 km. Use PYTHON to find out the volume of such a shape in cubic meters. Write down the expression followed by the answer given by PYTHON."
   ]
  },
  {
   "cell_type": "code",
   "execution_count": 9,
   "metadata": {
    "collapsed": true
   },
   "outputs": [],
   "source": [
    "# type here your code!\n"
   ]
  },
  {
   "cell_type": "markdown",
   "metadata": {},
   "source": [
    "### Exercise 1.3 \n",
    "Get the answer of following division:\n",
    "\n",
    "$$\\frac{1}{2}+\\frac{\\frac{1}{3}}{\\frac{1}{4}+\\frac{1}{5}}$$"
   ]
  },
  {
   "cell_type": "code",
   "execution_count": 10,
   "metadata": {
    "collapsed": true
   },
   "outputs": [],
   "source": [
    "# type here your code!\n"
   ]
  },
  {
   "cell_type": "markdown",
   "metadata": {},
   "source": [
    "\n",
    "#### Action 1.7 \n",
    "\n",
    "Now check the Editor Pane. The following screenshot shows an editor window with a file being edited. Once you edit something in this window you can save it with the extension .py. This means that another way to bring an editor window is when double clicking a .py file. The main idea of the py files is to store several lines of commands (such as those shown in Actions 1.4, 1.5 and 1.6) and run them in sequence. We will see also this later on.\n",
    "\n",
    "## 1.2 More about expression and commands\n",
    "\n",
    "### 1.2.1 Naming variables\n",
    "\n",
    "You have seen that you can use PYTHON as a very powerful calculator just by throwing in some mathematical expressions into the console and pressing Enter. However, more complicated things can be done using variables. \n",
    "\n",
    "In PYTHON, we can give names to variables. The variable names should always start with a letter followed by one or more letters, underscores `(“_”)` or numbers, as well as their combinations. For example, the following variables can be accepted: x, y , z, x_1, another_long_varilable_name.  Python keywords that cannot be used as variable names.  These keywords are:\n",
    "\n",
    "    and, as, assert, break, class, continue, def, del, elif, else, except, exec, finally, for, from, global, if, import, in, is, lambda, not, or, pass, print, raise, return, try, while, with, yield\n",
    "    \n",
    "Note: Be aware of the keyword lambda, which could easily be a natural variable name in a scientific program. But being a keyword, it cannot be used as a variable name.\n",
    "\n",
    "Note: Most of IDE's will highlight these reserved names with a different color. If the variable name you selected changes color when you type it, use another name.\n",
    "\n",
    "Please remember that:\n",
    "\n",
    "- PYTHON is case-sensitive. So variable `x` is NOT the same as `X`.\n",
    "- Do not put space in variable names. PYTHON will think they are statements instead of variables (which will lead to an error).\n",
    "\n",
    "Use meaningful names, but not too long: `nw_bike` is a better name than `bike` and also than `number_of_wheels_used_by_a_bycicle`.\n",
    "\n",
    "The purpose of using variables is to store values and then refer to the value in further calculations/operations. In such a way, your calculation is no longer limited to one line expression of real numbers, but rather it can become more complex in terms of programming with structures of statements.\n",
    "\n",
    "### 1.2.2 Statements\n",
    "\n",
    "Actually, the commands you have tried in the console are statements. Simply speaking, a statement is an instruction using combination of operators and expressions to achieve certain goal. Some examples:\n",
    "\n",
    "Assign a value or the value from expression to a variable. For example:\n",
    "\n",
    "    x = 1\t\t# Assigns the value 1 to the variable x\n",
    "    y = 2\t\t# Assigns the value 2 to the variable y\n",
    "    z = x + y\t# Assigns the result of x+y to the variable z, (the value 3) \n",
    "    \n",
    "Call an internal or external function and store the return value to one or more values into variables. Often we have to pass some parameters to a function (we will discuss this in another section)\n",
    "\n",
    "    import libraries\n",
    "    x = my_function(par1, par2)\n",
    "    \n",
    "#### Action 1.8\n",
    "In the console, first type in the following statement followed by a RETURN key (make sure you have `import numpy as np`, as in Action 1.5).\n",
    "\n",
    "    x = np.sqrt(2)\n",
    "\n",
    "\n",
    "And now do the nearly same thing again\n",
    "\n",
    "    y = np.sqrt(3)\n",
    "\n",
    "Check the variable explorer pane. You should see both variables `x` and `y`, of float type, followed by their corresponding values 2 and 3."
   ]
  },
  {
   "cell_type": "code",
   "execution_count": 11,
   "metadata": {
    "collapsed": true
   },
   "outputs": [],
   "source": [
    "# type here your code!\n"
   ]
  },
  {
   "cell_type": "markdown",
   "metadata": {},
   "source": [
    "#### Action 1.9\n",
    "Now let's type the variable x in the IPhython console:\n",
    "\n",
    "    x\n",
    "    1.4142135623730951"
   ]
  },
  {
   "cell_type": "code",
   "execution_count": 12,
   "metadata": {
    "collapsed": true
   },
   "outputs": [],
   "source": [
    "# Try here your code!\n"
   ]
  },
  {
   "cell_type": "markdown",
   "metadata": {},
   "source": [
    "And for y\n",
    "\n",
    "    y\n",
    "    \n",
    "    "
   ]
  },
  {
   "cell_type": "code",
   "execution_count": 13,
   "metadata": {
    "collapsed": true
   },
   "outputs": [],
   "source": [
    "# Try here your code!\n"
   ]
  },
  {
   "cell_type": "markdown",
   "metadata": {},
   "source": [
    "As you expect, the value of x is displayed. However, the value of y is not. This is because of the use of the semicolon at the end of the command. In any case, both values are stored in memory. \n",
    "\n",
    "#### Action 1.10\n",
    "\n",
    "Now, let's make a mistake on purpose. Suppose we want to check/use variable `x`, but mistakenly referring to it by `X` (capital X). In the console, type in a single `X`\n",
    "\n",
    "    X\n",
    "    \n",
    "    Traceback (most recent call last):\n",
    "      File \"<ipython-input-13-253bcac7dd80>\", line 1, in <module>\n",
    "        X\n",
    "    NameError: name 'X' is not defined"
   ]
  },
  {
   "cell_type": "code",
   "execution_count": 14,
   "metadata": {
    "collapsed": true
   },
   "outputs": [],
   "source": [
    "# type here your code!\n"
   ]
  },
  {
   "cell_type": "markdown",
   "metadata": {},
   "source": [
    "If you are familiar to other computer languages such as Delphi or C/C++, you may recall that a variable needs to be declared in order to define its type. In PYTHON, as well as in other high-level programming languages like Matlab, this is not necessary. A variable type will be assigned according to the context where it is created (check Action 1.8, where the variables x and y, were assigned as “float64”). If a variable has never been created by either an assignment statement or a function return value, it remains “not defined.”\n",
    "\n",
    "We have seen that you can show the value of a variable by simply typing its name or by checking the variable explorer pane. Another handy command to do the same thing is “whos”.\n",
    "\n",
    "#### Action 1.11\n",
    "In the console, type in the “whos” command:\n",
    "\n",
    "    whos"
   ]
  },
  {
   "cell_type": "code",
   "execution_count": 15,
   "metadata": {
    "collapsed": true
   },
   "outputs": [],
   "source": [
    "# type here your code!\n"
   ]
  },
  {
   "cell_type": "markdown",
   "metadata": {},
   "source": [
    "## 1.3 A word on errors\n",
    "\n",
    "As you have seen a couple of times, Python prints out error messages when something is not right. There are three main useful components of such messages:\n",
    "\n",
    "The line number where the error occurred (not always completely accurate, but it gives you an idea of the location in your code that is causing the error)\n",
    "\n",
    "The type of error. Python has several different classes of error. In actions 1.4 and 1.10 we committed NameError, and this will not be the last one you will make. This is perhaps the most common error you will encounter when coding in PYTHON. \n",
    "\n",
    "Double-check the spelling of your commands! Other types of errors are related to syntax, index, indentation, types, etc.\n",
    "The additional information. After the type of error, the message often prints out a more detailed explanation of what went wrong.\n",
    "\n",
    "When confronted to errors, read them, try to understand what happens and take action. Sometimes this requires a bit of googling.\n",
    "\n",
    "#### Exercise 1.4 \n",
    "\n",
    "Work out the Euclidian distance between two points `(x1, y1)` and `(x2, y2)` on a 2D plane. Try with the case of `x1 = 1`, `y1 = 1`, `x2 = 3`, `y2 = 4`. You may repeat the procedure for other points defined by you."
   ]
  },
  {
   "cell_type": "code",
   "execution_count": 16,
   "metadata": {
    "collapsed": true
   },
   "outputs": [],
   "source": [
    "# type here your code!\n"
   ]
  },
  {
   "cell_type": "markdown",
   "metadata": {},
   "source": [
    "#### Exercise 1.5. \n",
    "Find the roots of a quadratic equation \n",
    "\n",
    "$$ax^2 + bx + c = 0$$\n",
    "\n",
    "where a=1, b=8, c=4. You may remember that \n",
    "\n",
    "$$x =-b±\\frac{\\sqrt{b^2 - 4ac}}{2a}$$ \n",
    "\n",
    "please use variables instead of direct calculation."
   ]
  },
  {
   "cell_type": "code",
   "execution_count": 17,
   "metadata": {
    "collapsed": true
   },
   "outputs": [],
   "source": [
    "# type here your code!\n"
   ]
  },
  {
   "cell_type": "markdown",
   "metadata": {},
   "source": [
    "## 1.4 Sequence types\n",
    "Sequence types are used to produce long sequences, such as vectors. There are three basic sequence types: lists, tuples, and range, explained below.\n",
    "\n",
    "### 1.4.1 Lists\n",
    "So far we have been playing with numbers (scalars). On many occasions, we need to expand the dimensionality of variables, from 0D (scalars) to 1D (vectors), 2D (matrices) and even higher (arrays). We will discuss matrices and arrays later on. For the moment, let's look at lists, one of the possible definition of vectors in PYTHON.\n",
    "\n",
    "To create a list, type it as a math expression. For example:\n",
    "\n",
    "    x = [3 ,4, 5]\n",
    "\n",
    "A 3-element row vector whose first, second and third elements are 3, 4 and 5, respectively. Note that any spaces you type before and after the commas will be ignored. You may use subscripting `x[i]` to refer to the ith element of the list `x`. Note that in PYTHON the subscript always as start from 0 unless specified explicitly.\n",
    "\n",
    "`x[0]` will therefore return the value 3, and `x[2]` would return 5.\n",
    "\n",
    "Note for Matlab users\n",
    "Note that this works exactly as in Matlab, except that:\n",
    "\n",
    "- Square brackets `[]` are used to specify the index, instead of rounded brackets `()`\n",
    "- The index of the first element is `0`, instead of `1`\n",
    "\n",
    "Interestingly, `x[-1]` will also return 5. In fact, the index `-1` will always return the last element of a list, `-2` will always return the element before the last, and so on. In PYTHON negative indexes can access the elements in a list from right to left, starting from -1.\n",
    "\n",
    "#### Action 1.12 \n",
    "Create a list called v with the following elements: `2, 4, 6, 8, 10`. What elements of v are retrieved when using the indexes `0`, `3`, `-1` and `-6`?\n",
    "\n",
    "Note that lists accept also other data types. Try, for instance:\n",
    "\n",
    "    In: msc_list = [2017, 'HI', 'CEPD', 'HWR', 'HERBD']\n",
    "\n",
    "So `msc_list[0]` is 2017 and `msc_list[1]` is ‘HI’."
   ]
  },
  {
   "cell_type": "code",
   "execution_count": 18,
   "metadata": {
    "collapsed": true
   },
   "outputs": [],
   "source": [
    "# type here your code!\n"
   ]
  },
  {
   "cell_type": "markdown",
   "metadata": {},
   "source": [
    "We can also use the index to change an element of a list. For instance:\n",
    "\n",
    "    In: msc_list[0] = 2018\n",
    "\n",
    "would change the first element from 2017 to 2018."
   ]
  },
  {
   "cell_type": "code",
   "execution_count": 19,
   "metadata": {
    "collapsed": true
   },
   "outputs": [],
   "source": [
    "# Try here your code!\n"
   ]
  },
  {
   "cell_type": "markdown",
   "metadata": {},
   "source": [
    "### 1.3.2. Range\n",
    "Often we want a vector of number sequences. For example, from 1 to 100 with an increment of 1, like 1, 2,…, 100. In PYTHON, this can be easily built using the range function.\n",
    "\n",
    "    In: range(1, 101)\n",
    "    "
   ]
  },
  {
   "cell_type": "markdown",
   "metadata": {},
   "source": [
    "    \n",
    "If it is desired to create a vector with different increment, the following can be used: range(start, stop, step), where start is the starting number of the sequence; stop generates numbers up to, but not including this number, and step is the difference between each number in the sequence. For example:\n",
    "\n",
    "    In: a_range = range(1,10,2)\n",
    "    \n",
    "    "
   ]
  },
  {
   "cell_type": "code",
   "execution_count": 20,
   "metadata": {
    "collapsed": true
   },
   "outputs": [],
   "source": [
    "# Try here your code!\n"
   ]
  },
  {
   "cell_type": "markdown",
   "metadata": {},
   "source": [
    "Would store in the variable `a_range` the list `1, 3, 5, 7, 9` (a list starting in 1, ending before reaching 10 and incrementing by 2). However, the content of aRange cannot be visualized explicitly.. In order to access its content, we use the same method as seen above, using indexes:\n",
    "\n",
    "    In: a_range[0]\n",
    "    Out: 1\n",
    "    "
   ]
  },
  {
   "cell_type": "code",
   "execution_count": 21,
   "metadata": {
    "collapsed": true
   },
   "outputs": [],
   "source": [
    "# Try here your code!\n"
   ]
  },
  {
   "cell_type": "markdown",
   "metadata": {},
   "source": [
    "Similarly, `a_range[1]` is 3 and `a_range[2]` is 5. Try now:\n",
    "\n",
    "    In: a_range[1:3]\n",
    "    Out: range(3, 7, 2)\n",
    "    "
   ]
  },
  {
   "cell_type": "code",
   "execution_count": 22,
   "metadata": {
    "collapsed": true
   },
   "outputs": [],
   "source": [
    "# Try here your code!\n"
   ]
  },
  {
   "cell_type": "markdown",
   "metadata": {},
   "source": [
    "Which is equivalent to the list `[3 , 5]` (starting in 3, up to but not including 7, and with an increment of 2)\n",
    "However, if we now try `a_range[5]`, we will get a message similar to the following:\n",
    "\n",
    "This is because `a_range` has 5 elements, the last one having the index 4 (recall that indexes start from 0). This means that `a_range[5]` is trying to retrieve an index that does not exist.\n",
    "\n",
    "Note for Matlab users:\n",
    "In Python, range(start, stop + 1, step) can be used like Matlab's start:step:stop. \n",
    "\n",
    "### 1.4.2. Tuples\n",
    "\n",
    "A tuple is a sequence of immutable Python objects. Tuples are sequences, just like lists. The differences between tuples and lists are: 1) the tuples cannot be changed, and 2) tuples use parentheses, whereas lists use square brackets. The fact of being immutable makes it very efficient to be used in iterations.\n",
    "\n",
    "Creating a tuple is as simple as putting different comma-separated values. Optionally you can put these comma-separated values between parentheses also. For example\n",
    "\n",
    "    tup1 = ('physics', 'chemistry', 1997, 2000);\n",
    "    tup2 = (1, 2, 3, 4, 5 );\n",
    "    tup3 = \"a\", \"b\", \"c\", \"d\";\n",
    "\n",
    "Let’s build the MScList again, as in Line 14 above, but now using round brackets, to create a tuple:\n",
    "\n",
    "    In: msc_list_2=(2017, 'HI', 'CEPD', 'HWR', 'HERBD')\n",
    "    \n",
    "    "
   ]
  },
  {
   "cell_type": "code",
   "execution_count": 23,
   "metadata": {
    "collapsed": true
   },
   "outputs": [],
   "source": [
    "# Try here your code!\n"
   ]
  },
  {
   "cell_type": "markdown",
   "metadata": {},
   "source": [
    "As in the case of the list, `msc_list_2[0]` is 2017 and `msc_list_2[1]` is ‘HI’. However,\n",
    "\n",
    "    In: msc_list_2[0] = 2018\n",
    "would result in this error message:\n",
    "\n",
    "Note this is a type error message, because the assignment command is not supported by the tuple type variable."
   ]
  },
  {
   "cell_type": "code",
   "execution_count": 24,
   "metadata": {
    "collapsed": true
   },
   "outputs": [],
   "source": [
    "# type here your code!\n"
   ]
  },
  {
   "cell_type": "markdown",
   "metadata": {},
   "source": [
    "## 1.5 The for-loop\n",
    "The for statement in Python differs from it is used to in other languages. Instead of iterating over an arithmetic progression of numbers, Python’s for statement iterates over the items of any sequence (a list or a string), in the order that they appear in the sequence. For example, entering the following in the IPhython console:\n",
    "\n",
    "    In : words = ['cat', 'window', 'defenestrate']\n",
    "    In : for w in words:\n",
    "    ...:         print(w, len(w))\n",
    "    ...:         \n",
    "    \n",
    "will produce:"
   ]
  },
  {
   "cell_type": "code",
   "execution_count": 25,
   "metadata": {
    "collapsed": true
   },
   "outputs": [],
   "source": [
    "# Try here your code!\n"
   ]
  },
  {
   "cell_type": "markdown",
   "metadata": {},
   "source": [
    "Several things to note:\n",
    "\n",
    "the first line of the for loop needs to end up with a colon (:)\n",
    "\n",
    "as soon as ENTER is pressed, the prompt changes to ...: This indicates that Python is now waiting for further lines, which will be repeated as many times as number of elements are contained in the list words. Besides, the line is indented (extra space towards the right).\n",
    "\n",
    "the for loop will take one element at a time contained in words and print the value of the corresponding element and its length (by means of the command len)\n",
    "\n",
    "There is no command to end the for loop. Removing the indentation indicates that the for loop finishes. This will be clearer when we create scripts with the Python editor.\n",
    "\n",
    "#### Action 1.13\n",
    "Let's solve a number sequence problems. First, let’s work out i=1100i. We know this has been solved already hundreds of years ago by a school boy without any computer (who did it?). Type the following lines in the IPython console:\n",
    "\n",
    "    In :for i in x:\n",
    "    ...:    s=s+i\n",
    "\n",
    "    In : print(s)\n",
    "    \n",
    "Note that you have to complete each line of statement with a RETURN key stroke. You may also noticed that after the for line, there is no “In [xx]” prompt sign, since you were in a command yet to be completed."
   ]
  },
  {
   "cell_type": "code",
   "execution_count": 26,
   "metadata": {
    "collapsed": true
   },
   "outputs": [],
   "source": [
    "# Try here your code! \n"
   ]
  },
  {
   "cell_type": "markdown",
   "metadata": {},
   "source": [
    "#### Exercise 1.6 \n",
    "\n",
    "Use for-loop structure to workout \n",
    "\n",
    "$$y = \\sum_{x=1}^{100}{x^2}$$"
   ]
  },
  {
   "cell_type": "code",
   "execution_count": 27,
   "metadata": {
    "collapsed": true
   },
   "outputs": [],
   "source": [
    "# Try here your code!\n"
   ]
  },
  {
   "cell_type": "markdown",
   "metadata": {},
   "source": [
    "## 1.6 Simple input\n",
    "\n",
    "Up to now we set values for variables using assignment statements. In other words, the variables are initialized at the time you write the source code, or hard-coded. In fact, you can also assign value to a variable during the runtime, i.e., by asking the user interactively input a value for it. \n",
    "\n",
    "#### Action 1.15\n",
    "\n",
    "You can use input command to assign a value to a variable during the runtime. When asked, enter 87.3.\n",
    "    \n",
    "    In: a = input ('Please give a value for a: \\n')\n",
    "    \n",
    "    "
   ]
  },
  {
   "cell_type": "code",
   "execution_count": 28,
   "metadata": {
    "collapsed": true
   },
   "outputs": [],
   "source": [
    "# Try here your code!\n"
   ]
  },
  {
   "cell_type": "markdown",
   "metadata": {},
   "source": [
    "Gives the following output:\n",
    "\n",
    "    Please give a value for a: \n",
    "    87.3\n",
    "\n",
    "Note that the variable a will always store a string, in this case ‘87.3’. This means that if we attempt to perform an arithmetic operation with a, such as `2*a`, then we will obtain `‘87.387.3’`. This is because the * operator is repetition, used to create new strings, concatenating multiple copies of the same string. We will see more on strings further.\n",
    "\n",
    "## 1.5 First glance at matrices (arrays)\n",
    "\n",
    "The numpy library allows for manipulating arrays, which are defined as a grid of values, all of the same type, indexed by a tuple of nonnegative integers. The rank of the array is its number of dimensions, and the shape of an array is a tuple of integers giving the size of the array along each dimension.\n",
    "\n",
    "To define an array, it is required that the variable is declared as such, using the function array as:\n",
    "    \n",
    "    my_matrix = [[1, 2, 3], [2, 3, 4]]\n",
    "    np.array(my_matrix)\n",
    "    \n",
    "    "
   ]
  },
  {
   "cell_type": "code",
   "execution_count": 29,
   "metadata": {
    "collapsed": true
   },
   "outputs": [],
   "source": [
    "# Try here your code!\n"
   ]
  },
  {
   "cell_type": "markdown",
   "metadata": {},
   "source": [
    "We can initialize numpy arrays from nested Python lists, and access elements using square brackets:\n",
    "\n",
    "    import numpy as np\n",
    "    a = np.array([1, 2, 3])  \t\t # Create a rank 1 array\n",
    "    print(a[0], a[1], a[2])  \t\t # Prints \"1 2 3\"\n",
    "    a[0] = 5                \t\t # Change an element of the array\n",
    "    print(a)                 \t\t # Prints \"[5, 2, 3]\"\n",
    " \n",
    "    b = np.array([[1, 2, 3], [4, 5, 6]])    # Create a rank 2 array\n",
    "    print(b.shape)                     # Prints \"(2, 3)\"\n",
    "    print(b[0, 0], b[0, 1], b[1, 0])   # Prints \"1 2 4\"\n",
    "    \n",
    "Arrays can have an unlimited number of dimensions, and they are not restricted to "
   ]
  },
  {
   "cell_type": "code",
   "execution_count": 30,
   "metadata": {
    "collapsed": true
   },
   "outputs": [],
   "source": [
    "# Try here your code!\n"
   ]
  },
  {
   "cell_type": "markdown",
   "metadata": {},
   "source": [
    "Numpy also provides many functions to create arrays:\n",
    "\n",
    "    import numpy as np\n",
    "    a = np.zeros((2,2))   # Create an array of all zeros\n",
    "    print(a)              # Prints \"[[ 0.  0.]\n",
    "                          #          [ 0.  0.]]\"\n",
    "\n",
    "    b = np.ones((1,2))    # Create an array of all ones\n",
    "    print(b)              # Prints \"[[ 1.  1.]]\"\n",
    "\n",
    "    c = np.full((2,2), 7)  # Create a constant array\n",
    "    print(c)               # Prints \"[[ 7.  7.]\n",
    "                           #          [ 7.  7.]]\"\n",
    "\n",
    "    d = np.eye(2)         # Create a 2x2 identity matrix\n",
    "    print(d)              # Prints \"[[ 1.  0.]\n",
    "                          #          [ 0.  1.]]\"\n",
    "\n",
    "    e = np.random.random((2,2))  # Create an array filled with random values\n",
    "    print(e)                     # Might print \"[[ 0.91940167  0.08143941]\n",
    "                                 #               [ 0.68744134  0.87236687]]\"\n",
    "\n",
    "You can read about other methods of array creation in the documentation."
   ]
  },
  {
   "cell_type": "code",
   "execution_count": 31,
   "metadata": {
    "collapsed": true
   },
   "outputs": [],
   "source": [
    "# Try here your code!\n"
   ]
  },
  {
   "cell_type": "markdown",
   "metadata": {},
   "source": [
    "### Array indexing\n",
    "\n",
    "Numpy offers several ways to index into arrays.\n",
    "\n",
    "Slicing: Similar to Python lists. However, Numpy arrays has far larger capabilities that the conventional lists. Since arrays may be multidimensional, you must specify a slice for each dimension of the array:\n",
    "\n",
    "Create the following matrix:\n",
    "\n",
    "$$\\begin{bmatrix}\n",
    "    1 & 2 & 3 & 4\\\\\n",
    "    5 & 6 & 7 & 8\\\\\n",
    "    9 & 10 & 11 & 12\\\\\n",
    "    \\end{bmatrix}$$\n",
    "    \n",
    "    \n",
    "for this purpose, you may use the `np.array` function as:\n",
    "\n",
    "    a = np.array([[1,2,3,4], [5,6,7,8], [9,10,11,12]])   \n",
    "    "
   ]
  },
  {
   "cell_type": "code",
   "execution_count": 32,
   "metadata": {
    "collapsed": true
   },
   "outputs": [],
   "source": [
    "# Try here your code!\n"
   ]
  },
  {
   "cell_type": "markdown",
   "metadata": {},
   "source": [
    "Slicing contains several deinitions which are to be attended. the colon `\":\"` operator indicates that the slicing will be carried out until. This means that you can use it to define a span of elements, such as:\n",
    "    \n",
    "- From the beggining until the end -> `[:]`\n",
    "- From the second element until the end -> `[1:]`\n",
    "- From the first element until the one before the last -> `[:-1]`\n",
    "- From the 2nd to the 4th (includes the element in position 1, but not the element in position 3)-> `[1:3]`\n",
    "- Indicate a step if used a second time, e.g. getting the elements in the positions `1,3,5` -> `[1:6:2]`\n",
    "- Get specific elements using a list -> `[2,3,5]`\n",
    "    \n",
    "Try to use slicing methods to pull out the subarray consisting of the first 2 rows of the matrix `a` defined above\n",
    "\n",
    "    # and columns 1 and 2; b is the following array of shape (2, 2):\n",
    "    # [[2 3]\n",
    "    #  [6 7]]\n",
    "    b = a[:2, 1:3]"
   ]
  },
  {
   "cell_type": "code",
   "execution_count": 33,
   "metadata": {},
   "outputs": [],
   "source": [
    "# Try here your code!\n"
   ]
  },
  {
   "cell_type": "markdown",
   "metadata": {},
   "source": [
    "A slice of an array is a view into the same data, so modifying it will modify the original array.\n",
    "\n",
    "    print(a[0, 1])   # Prints \"2\"\n",
    "    b[0, 0] = 77     # b[0, 0] is the same piece of data as a[0, 1]\n",
    "    print(a[0, 1])   # Prints \"77\""
   ]
  },
  {
   "cell_type": "code",
   "execution_count": 34,
   "metadata": {
    "collapsed": true
   },
   "outputs": [],
   "source": [
    "# Try here your code!\n"
   ]
  },
  {
   "cell_type": "markdown",
   "metadata": {},
   "source": [
    "Although matrices and arrays will be covered later on much more details. It is useful to just have a quick look at them as we need the concept of matrix when we do some plotting shortly.\n",
    "\n",
    "Further details of slicing can be found in: https://docs.scipy.org/doc/numpy-1.13.0/reference/arrays.indexing.html\n",
    "\n",
    "\n",
    "#### Action 1.17\n",
    "We know that a row vector can be created like\n",
    "\n",
    "    row_1 = np.array([1, 2, 3])"
   ]
  },
  {
   "cell_type": "code",
   "execution_count": 35,
   "metadata": {
    "collapsed": true
   },
   "outputs": [],
   "source": [
    "# Try here your code!\n"
   ]
  },
  {
   "cell_type": "markdown",
   "metadata": {},
   "source": [
    "We may repeat this to create all the rows and put them together so that a matrix is built, for example\n",
    "\n",
    "    a_matrix = np.array([[1, 2, 3], [4, 5, 6]])"
   ]
  },
  {
   "cell_type": "code",
   "execution_count": 36,
   "metadata": {
    "collapsed": true
   },
   "outputs": [],
   "source": [
    "# Try here your code!\n"
   ]
  }
 ],
 "metadata": {
  "kernelspec": {
   "display_name": "Python 2",
   "language": "python",
   "name": "python2"
  },
  "language_info": {
   "codemirror_mode": {
    "name": "ipython",
    "version": 2
   },
   "file_extension": ".py",
   "mimetype": "text/x-python",
   "name": "python",
   "nbconvert_exporter": "python",
   "pygments_lexer": "ipython2",
   "version": "2.7.14"
  }
 },
 "nbformat": 4,
 "nbformat_minor": 2
}
