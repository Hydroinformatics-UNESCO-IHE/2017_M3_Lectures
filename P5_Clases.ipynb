{
 "cells": [
  {
   "cell_type": "markdown",
   "metadata": {},
   "source": [
    "# Objects and Classes\n",
    "\n",
    "Each element that belongs to a data type in Python is an object, which controls its behaviour. So far you have experienced the manipulation of certain objects such as matplotlib plots and numpy arrays, but in reality, even integer numbers are objects.\n",
    "\n",
    "Objects can be seen as the tangible representation of an abstract class. For example, you (a student in this room), can be represented as an instance of the class student. Alternatively, the banana (object) I had for breakfast comes from the class fruit.\n",
    "\n",
    "In this topic we are going to discuss the general characteristics of objects and classes in Pyhton, exploring the syntax and the implementation details.\n",
    "\n",
    "## Parts of a class\n",
    "\n",
    "By definition classes are composed by methods and attributes. Methods, are understood as tasks which are done by the object, while attributes are information which is stored in the object. From a practical point of view, the methods are defined as functions within the object, providing the functionalities which are required by the object to perform a determined task. The attributes can be seen as variables which belong to the object.\n",
    "\n",
    "At this point there has to be a distinction between class and object attributes. The main difference between these two is that the class attributes are common to all of the objects derived from the parent class, while the object attibutes are only visible to each object in particular. For example, the number of wheels in a car is always 4 (and therefore a class property) but the color of each car can be different and depends in each specific object (object property).\n",
    "\n",
    "Additionally, in Python is possible to inherit a class from a superclass (parent or base class). The subclass (child or derived class) will have the same properties and class attributes as the parent class, but which can be further modified. If there is no explicit re-definition of the methods or attributes in the subclass, the bahviour will correspond to that of the parent class.\n",
    "\n",
    "\n",
    "## defining a class\n",
    "Classes are defined by using the definition `class` and followed by the parent class in parenthesis, or colon `:`\n",
    "\n",
    "    class MyClass(MyParentClass):\n",
    "    \n",
    "or\n",
    "\n",
    "    class MyClass:\n",
    "    \n",
    "In the process of defining a class, it is necessary to have a constructor. The constructor is a method which will initialise the componenets of the object, once the class is instantiated. The contrusctor in python is defined as an internal function with the syntax\n",
    "\n",
    "    def __init__(self):\n",
    "    \n",
    "The definition of the `__init__` method will be called once an object is created using the class, making this the constructor of the class. It is possible to initialise a class which is empty, by ending with the argument `pass`\n",
    "\n",
    "    class MyClass:\n",
    "        pass\n",
    "\n",
    "### defining object attributes\n",
    "\n",
    "The object attributes are always preceeded by the word self, indicating that the reference is made to the object itself, and not the the class. Keep in mind that because of this, variables which are inside the function in the class, but whose name has the `self` syntax, will live even as a part of the object even when the function has finished. Consequently, it is common to avoid the `return` syntax in the methods of the class.\n",
    "\n",
    "    self.my_attribute\n",
    "\n",
    "\n",
    "### defining methods\n",
    "\n",
    "Methods are fundamentally functions which are part of the objects. The methods allow the object to perform actions, which either modify the object itself (mutation), or generate an outside result. The methods in the class are defined as regular functions, and it is possible to generate calls to internal methods within the object, by using the syntax `self` before the name of the function.\n",
    "\n",
    "    def my_method(self):\n",
    "\n",
    "Additionally, if the method will be using any of the attributes or methods of the object, it is required that the `self` variable is passed before anything else. Keep in mind that this variable is only used in the scope of the object, and therefore, is not required when is being used.\n",
    "\n",
    "### Private attributes and methods\n",
    "\n",
    "In many prorgamming languages it is common the use of private attributes and methods, indicating that they are only visible for the object itself. In Python this is not the case, as it is possible to access all of the methods and attributes of the class via the objects. The reason behind private methods and attributes is founded in avoiding confusion and renaming among large data structures, and therefore, avoiding replacing other parts of code in large systems. \n",
    "\n",
    "In practice to avoid this, there is a common agreement in which the variables which are private (not intended to be shared) are private for the object are given a preceeding underscore (`_`). It is also possible to internally change the variable by means of *mangling* by adding a second underscore (`__`), in which the reference of the variable will of the type:\n",
    "\n",
    "    object._ClassName__variable_name\n",
    "\n",
    "Keep in mind that the private variables are not expected to be accessed by any user which is not the developer, as these may dissapear without notice, and therefore, its support between program versions is not guaranteed. In other words, these variables are reserved as implementation details only.\n",
    "\n",
    "## Making the first class definition\n",
    "\n",
    "Following we are going to define a class named `Coordinate`. The syntax for the creation of the class are:"
   ]
  },
  {
   "cell_type": "code",
   "execution_count": 45,
   "metadata": {},
   "outputs": [],
   "source": [
    "import numpy as np\n",
    "\n",
    "# Class definition\n",
    "class Coordinate:\n",
    "    '''Class definition'''\n",
    "    \n",
    "    def __init__(self, x, y):\n",
    "        '''Class constructor'''\n",
    "        self.x = x\n",
    "        self.y = y\n",
    "        self.__author = 'the_author'  # This will  be mangled\n",
    "        \n",
    "    def distance(self, origin=None):\n",
    "        '''Class method'''\n",
    "        if origin is None:\n",
    "            x0 = 0\n",
    "            y0 = 0\n",
    "        else:\n",
    "            x0 = origin.x\n",
    "            y0 = origin.y\n",
    "        \n",
    "        self.dist = np.sqrt((self.x - x0)**2 + (self.y - y0)**2)\n"
   ]
  },
  {
   "cell_type": "markdown",
   "metadata": {},
   "source": [
    "## Instantiating the class\n",
    "\n",
    "Now, to instantiate the class (and therefore create an object), the syntax will require an assignation as:\n",
    "\n",
    "    my_object = MyClass()\n",
    "    \n",
    "The arguments inside the parenthesis when the class is constructed, are being passed to the constructor of the class, and therefore, are the arugmnents of the `__init__` function. Here we instantiate 2 objects (`my_object` and `my_origin`), and use the method in `my_object` to calculate the distance with respect to another coordinate set."
   ]
  },
  {
   "cell_type": "code",
   "execution_count": 46,
   "metadata": {},
   "outputs": [
    {
     "name": "stdout",
     "output_type": "stream",
     "text": [
      "1\n",
      "2\n",
      "2.2360679775\n",
      "the_author\n"
     ]
    }
   ],
   "source": [
    "my_object = Coordinate(1, 2)\n",
    "my_origin = Coordinate(0, 0)\n",
    "\n",
    "# Accessing the contents of my_object x and y variables\n",
    "print(my_object.x)\n",
    "print(my_object.y)\n",
    "\n",
    "# Calculating (using the method) distance between two coordinates\n",
    "my_object.distance(my_origin)\n",
    "print(my_object.dist)\n",
    "\n",
    "# Accessing the variable of the author\n",
    "print(my_object._Coordinate__author)"
   ]
  },
  {
   "cell_type": "markdown",
   "metadata": {},
   "source": [
    "## Object and class attributes\n",
    "\n",
    "As we know, objects may have attributes and methods. The attributes can be differentiated in class and object attributes, depending where the definition lies. Class attributes are exposed to all of the objects created with the class, and therefore, mutating this reference in one of the objects will imply changes in all of the objects which are derived from the same class. Object attributes belong uniquely to the instance of the class (object), and therefore the mutations of its references will only be exposed to itself.\n",
    "\n",
    "The class variables are defined at a class level, therefore, are not preceded by the `self` expression. In contrast, the object variables are always preceded by `self`.\n",
    "\n",
    "As an example, let us discuss the class `Dog`. This class has several attributes which are passed in the constructor such as name and breed. Dogs can learn tricks as well, and are stored in a list. In the first case, we (incorrectly) defined these tricks as a class attribute. After we teach the first dog (chucho) the trick jump."
   ]
  },
  {
   "cell_type": "code",
   "execution_count": 41,
   "metadata": {},
   "outputs": [],
   "source": [
    "class Dog:\n",
    "    legs = 4\n",
    "    tricks = []\n",
    "    \n",
    "    def __init__(self, name, breed):\n",
    "        self.name = name\n",
    "        self.breed = breed\n",
    "    \n",
    "chucho = Dog('Chucho', 'Doberman')\n",
    "firu = Dog('Firu', 'pincher')\n",
    "\n",
    "# Add a trick to Chucho\n",
    "chucho.tricks.append('jump')"
   ]
  },
  {
   "cell_type": "markdown",
   "metadata": {},
   "source": [
    "Now we see which are the tricks of each of the dogs"
   ]
  },
  {
   "cell_type": "code",
   "execution_count": 42,
   "metadata": {},
   "outputs": [],
   "source": [
    "# print the tricks for chucho and firu\n",
    "\n"
   ]
  },
  {
   "cell_type": "markdown",
   "metadata": {},
   "source": [
    "as we see from the results, firu learnt a trick, even though we only add a trick for chucho. This behaviour occurs because we mutated a class attribute, and not an instance attribute. To correct this behaviour, it is possible to turn the class variable into an instance variable, by initialising it within the scope of the object contructor. To further modify the class, we can add a method in which we teach each dog a different trick."
   ]
  },
  {
   "cell_type": "code",
   "execution_count": 43,
   "metadata": {
    "collapsed": true
   },
   "outputs": [],
   "source": [
    "class Dog:\n",
    "    legs = 4\n",
    "    \n",
    "    def __init__(self, name, breed):\n",
    "        self.name = name\n",
    "        self.breed = breed\n",
    "        self.tricks = [] \n",
    "        \n",
    "    def add_trick(self, trick):\n",
    "        self.tricks.append(trick)\n",
    "\n",
    "# Define the 2 instances of the class dog\n",
    "chucho = Dog('Chucho', 'Doberman')\n",
    "firu = Dog('Firu', 'pincher')\n",
    "\n",
    "# Use the add_trick function to teach only one of the dogs a trick (jump)\n",
    "chucho.add_trick('jump')"
   ]
  },
  {
   "cell_type": "code",
   "execution_count": 44,
   "metadata": {},
   "outputs": [
    {
     "name": "stdout",
     "output_type": "stream",
     "text": [
      "['jump']\n",
      "[]\n"
     ]
    }
   ],
   "source": [
    "# Print the list of tricks each dog has\n",
    "print(chucho.tricks)\n",
    "print(firu.tricks)"
   ]
  },
  {
   "cell_type": "markdown",
   "metadata": {},
   "source": [
    "## Exercise 1\n",
    "\n",
    "Make a class Rectangle.\n",
    "The object from the class Rectangle shold be able to:\n",
    "\n",
    "- Determine if one of its vertices is inside another rectangle (True/False)\n",
    "- Calculate its own area and perimeter\n",
    "- Plot itself, and another rectangle which are passed as an external optional argument\n",
    "\n",
    "Keep in mind that the constructor of the class should receive the coordinates of two opposite vertices (therefore ensuring its a rectangle).\n",
    "\n"
   ]
  },
  {
   "cell_type": "code",
   "execution_count": null,
   "metadata": {
    "collapsed": true
   },
   "outputs": [],
   "source": []
  },
  {
   "cell_type": "markdown",
   "metadata": {},
   "source": [
    "## Exercise 2\n",
    "\n",
    "Make a second class called `CompareRectangles` which analyses geometrical relations between two or more rectangles. The object should be able to:\n",
    "\n",
    "- Determine if any of the vertices of any rectangle is within another rectangle (True/False)\n",
    "- Plot the sets of rectangles which are provided, using different colors\n",
    "- Calculate the joint area of the rectangle sets\n",
    "- (extra) Come with a creative method for a rectangle set!\n",
    "\n",
    "Base your solution in the objects of the class you created in exercise 1."
   ]
  },
  {
   "cell_type": "code",
   "execution_count": null,
   "metadata": {
    "collapsed": true
   },
   "outputs": [],
   "source": []
  }
 ],
 "metadata": {
  "kernelspec": {
   "display_name": "Python 2",
   "language": "python",
   "name": "python2"
  },
  "language_info": {
   "codemirror_mode": {
    "name": "ipython",
    "version": 2
   },
   "file_extension": ".py",
   "mimetype": "text/x-python",
   "name": "python",
   "nbconvert_exporter": "python",
   "pygments_lexer": "ipython2",
   "version": "2.7.14"
  }
 },
 "nbformat": 4,
 "nbformat_minor": 2
}
