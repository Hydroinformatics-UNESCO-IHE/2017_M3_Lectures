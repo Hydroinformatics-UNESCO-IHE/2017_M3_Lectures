{
 "cells": [
  {
   "cell_type": "markdown",
   "metadata": {},
   "source": [
    "# Data Loading\n",
    "\n",
    "This workbook will help you explore some of the examples about data loading. However, the practice will be carried out using Spyder. The exercises consists into loading, printing (in screen) and plotting of the downloaded data. So far you have acquired some tools for visualisation (plotting) which are required here to plot your data.\n",
    "\n",
    "\n",
    "## Example 1\n",
    "\n",
    "Loading a simple text file `Ex1_lines.txt` from the data_IO folder. Please note that every time you define the variable that has the handle (link) to the file (`fname`), the counter that controls the method `next()` is reset. In this case we are using iteration methods to access the files as:\n",
    "\n",
    "Remember that we are opening the file to extract the data from, and therefore, we are accessing the file as `read`."
   ]
  },
  {
   "cell_type": "code",
   "execution_count": 81,
   "metadata": {},
   "outputs": [
    {
     "name": "stdout",
     "output_type": "stream",
     "text": [
      "This is the first line\n",
      "\n"
     ]
    }
   ],
   "source": [
    "# First we open the file\n",
    "fname = open('data_IO/Ex1_lines.txt', 'r')\n",
    "\n",
    "# Lets print the first line\n",
    "print(fname.next())\n"
   ]
  },
  {
   "cell_type": "code",
   "execution_count": 82,
   "metadata": {},
   "outputs": [
    {
     "name": "stdout",
     "output_type": "stream",
     "text": [
      "This is line 2\n",
      "\n"
     ]
    }
   ],
   "source": [
    "# and now we print the second line\n",
    "print(fname.next())\n"
   ]
  },
  {
   "cell_type": "code",
   "execution_count": 83,
   "metadata": {},
   "outputs": [
    {
     "name": "stdout",
     "output_type": "stream",
     "text": [
      "This is line 3\n",
      "\n",
      "This is line 4\n",
      "\n",
      "This is the last line\n"
     ]
    },
    {
     "ename": "StopIteration",
     "evalue": "",
     "output_type": "error",
     "traceback": [
      "\u001b[1;31m---------------------------------------------------------------------------\u001b[0m",
      "\u001b[1;31mStopIteration\u001b[0m                             Traceback (most recent call last)",
      "\u001b[1;32m<ipython-input-83-aae02b41df7b>\u001b[0m in \u001b[0;36m<module>\u001b[1;34m()\u001b[0m\n\u001b[0;32m      3\u001b[0m \u001b[1;32mprint\u001b[0m\u001b[1;33m(\u001b[0m\u001b[0mfname\u001b[0m\u001b[1;33m.\u001b[0m\u001b[0mnext\u001b[0m\u001b[1;33m(\u001b[0m\u001b[1;33m)\u001b[0m\u001b[1;33m)\u001b[0m\u001b[1;33m\u001b[0m\u001b[0m\n\u001b[0;32m      4\u001b[0m \u001b[1;32mprint\u001b[0m\u001b[1;33m(\u001b[0m\u001b[0mfname\u001b[0m\u001b[1;33m.\u001b[0m\u001b[0mnext\u001b[0m\u001b[1;33m(\u001b[0m\u001b[1;33m)\u001b[0m\u001b[1;33m)\u001b[0m\u001b[1;33m\u001b[0m\u001b[0m\n\u001b[1;32m----> 5\u001b[1;33m \u001b[1;32mprint\u001b[0m\u001b[1;33m(\u001b[0m\u001b[0mfname\u001b[0m\u001b[1;33m.\u001b[0m\u001b[0mnext\u001b[0m\u001b[1;33m(\u001b[0m\u001b[1;33m)\u001b[0m\u001b[1;33m)\u001b[0m\u001b[1;33m\u001b[0m\u001b[0m\n\u001b[0m\u001b[0;32m      6\u001b[0m \u001b[1;32mprint\u001b[0m\u001b[1;33m(\u001b[0m\u001b[0mfname\u001b[0m\u001b[1;33m.\u001b[0m\u001b[0mnext\u001b[0m\u001b[1;33m(\u001b[0m\u001b[1;33m)\u001b[0m\u001b[1;33m)\u001b[0m\u001b[1;33m\u001b[0m\u001b[0m\n\u001b[0;32m      7\u001b[0m \u001b[1;32mprint\u001b[0m\u001b[1;33m(\u001b[0m\u001b[0mfname\u001b[0m\u001b[1;33m.\u001b[0m\u001b[0mnext\u001b[0m\u001b[1;33m(\u001b[0m\u001b[1;33m)\u001b[0m\u001b[1;33m)\u001b[0m\u001b[1;33m\u001b[0m\u001b[0m\n",
      "\u001b[1;31mStopIteration\u001b[0m: "
     ]
    }
   ],
   "source": [
    "# And lets try to print them all\n",
    "print(fname.next())\n",
    "print(fname.next())\n",
    "print(fname.next())\n",
    "print(fname.next())\n",
    "print(fname.next())\n",
    "print(fname.next())\n",
    "print(fname.next())\n"
   ]
  },
  {
   "cell_type": "markdown",
   "metadata": {},
   "source": [
    "As seen here, it is not possible to access a line which is beyond the end of the file. For this reason, we have to find safe way to explore the files, to avoid such errors. For this, we can load the file completely as:\n"
   ]
  },
  {
   "cell_type": "code",
   "execution_count": 84,
   "metadata": {},
   "outputs": [
    {
     "name": "stdout",
     "output_type": "stream",
     "text": [
      "This is the first line\n",
      "\n",
      "This is line 2\n",
      "\n",
      "This is line 3\n",
      "\n",
      "This is line 4\n",
      "\n",
      "This is the last line\n"
     ]
    }
   ],
   "source": [
    "# First we open the file\n",
    "fname = open('data_IO/Ex1_lines.txt', 'r')\n",
    "\n",
    "for line in fname:\n",
    "    print(line)\n",
    "    "
   ]
  },
  {
   "cell_type": "markdown",
   "metadata": {},
   "source": [
    "Alternatively, we can access the lines directly by loading the complete data."
   ]
  },
  {
   "cell_type": "code",
   "execution_count": 85,
   "metadata": {},
   "outputs": [
    {
     "name": "stdout",
     "output_type": "stream",
     "text": [
      "['This is the first line\\n', 'This is line 2\\n', 'This is line 3\\n', 'This is line 4\\n', 'This is the last line']\n",
      "This is the first line\n",
      "This is line 2\n",
      "This is line 3\n",
      "This is line 4\n",
      "This is the last line\n"
     ]
    }
   ],
   "source": [
    "# Note that we are reloading the file\n",
    "fname = open('data_IO/Ex1_lines.txt', 'r')\n",
    "\n",
    "# Here we are printing all the array which is inside a list\n",
    "print(fname.readlines())\n",
    "\n",
    "# Note that we are reloading the file\n",
    "fname = open('data_IO/Ex1_lines.txt', 'r')\n",
    "\n",
    "# Here we are printing the content of the file\n",
    "print(fname.read())\n"
   ]
  },
  {
   "cell_type": "code",
   "execution_count": 86,
   "metadata": {},
   "outputs": [
    {
     "name": "stdout",
     "output_type": "stream",
     "text": [
      "This is line 2\n",
      "\n"
     ]
    }
   ],
   "source": [
    "# Note that we are reloading the file\n",
    "fname = open('data_IO/Ex1_lines.txt', 'r')\n",
    "\n",
    "# Here we can access the second line in particular\n",
    "lines = fname.readlines()\n",
    "print(lines[1])\n"
   ]
  },
  {
   "attachments": {},
   "cell_type": "markdown",
   "metadata": {},
   "source": [
    "At this point the file `EX1_lines.txt` is open, and therefore it is not possible to be accessed by any other process. As a practice, try to go to the file in the windows explorer, and try to change its name. If the file is the correct one, an error like this will appear\n",
    "\n",
    "![](figures\\Io_Error.png)\n",
    "\n",
    "To solve this issue, it is necessary to close the file. Please keep in mind that this is a common source of errors in your code. If the file was open by another process (other python instance/console for example, it will not be possible to read or write this file). To close the file we can use the method `close()` as:\n"
   ]
  },
  {
   "cell_type": "code",
   "execution_count": 87,
   "metadata": {
    "collapsed": true
   },
   "outputs": [],
   "source": [
    "# Here we are closing the handle fname.\n",
    "fname.close()\n"
   ]
  },
  {
   "cell_type": "markdown",
   "metadata": {},
   "source": [
    "If the operation was successful, now it is possible to do all the operations in your file as you will normally do.\n",
    "\n",
    "In order to avoid errors with file opening and closing, we are going to open files in the `with` context. The `with`provides a context in which the files is open for the block of code in consideration. Once the block of code is finished, the with will automatically close the file.\n",
    "\n",
    "Therefore, the application of this will look like:\n"
   ]
  },
  {
   "cell_type": "code",
   "execution_count": 88,
   "metadata": {},
   "outputs": [
    {
     "name": "stdout",
     "output_type": "stream",
     "text": [
      "This is the first line\n",
      "\n",
      "This is line 2\n",
      "\n",
      "This is line 3\n",
      "\n",
      "This is line 4\n",
      "\n",
      "This is the last line\n"
     ]
    },
    {
     "ename": "ValueError",
     "evalue": "I/O operation on closed file",
     "output_type": "error",
     "traceback": [
      "\u001b[1;31m---------------------------------------------------------------------------\u001b[0m",
      "\u001b[1;31mValueError\u001b[0m                                Traceback (most recent call last)",
      "\u001b[1;32m<ipython-input-88-afd2b9614c12>\u001b[0m in \u001b[0;36m<module>\u001b[1;34m()\u001b[0m\n\u001b[0;32m      5\u001b[0m \u001b[1;33m\u001b[0m\u001b[0m\n\u001b[0;32m      6\u001b[0m \u001b[1;31m# But it wont be available here and will raise an error due to close file\u001b[0m\u001b[1;33m\u001b[0m\u001b[1;33m\u001b[0m\u001b[0m\n\u001b[1;32m----> 7\u001b[1;33m \u001b[1;32mprint\u001b[0m\u001b[1;33m(\u001b[0m\u001b[0mfname\u001b[0m\u001b[1;33m.\u001b[0m\u001b[0mnext\u001b[0m\u001b[1;33m(\u001b[0m\u001b[1;33m)\u001b[0m\u001b[1;33m)\u001b[0m\u001b[1;33m\u001b[0m\u001b[0m\n\u001b[0m",
      "\u001b[1;31mValueError\u001b[0m: I/O operation on closed file"
     ]
    }
   ],
   "source": [
    "with open('data_IO/Ex1_lines.txt', 'r') as fname:\n",
    "    # Here the file in the fname variable will be available\n",
    "    for line in fname:\n",
    "        print(line)\n",
    "\n",
    "# But it wont be available here and will raise an error due to close file\n",
    "print(fname.next())"
   ]
  },
  {
   "cell_type": "markdown",
   "metadata": {},
   "source": [
    "# Data writing\n",
    "\n",
    "Similar to reading, writing data follows the same standards. The file is open in writing mode `'w'` and it is has to be closed once it is finished. There are two main interaction modes, write (`'w'`) and append (`'a'`). Writing will rewrite any previous content in the file, while append will add additional lines to the content, enlarging the file.\n",
    "\n",
    "For data writing, instead of the method read, we are going to use the method `write(str)`. This method takes as parameter the string that will be inserted in the file. To add a new line, you should add an end of line character `(\\n)` to indicate that the line is finished. Please keep in mind that you can only write strings into your files.\n",
    "\n",
    "Let us make an example that creates a file with a file with a vector.\n"
   ]
  },
  {
   "cell_type": "code",
   "execution_count": 92,
   "metadata": {},
   "outputs": [],
   "source": [
    "# Create the vector that will be written\n",
    "vec = range(10)\n",
    "\n",
    "# Open the file (fname) in write mode, using the with statement\n",
    "with open('files_out\\exercise_file1.txt', 'w') as fname:\n",
    "    # Make a loop to iterate over the elements of the vector\n",
    "    for elem in vec:\n",
    "        # Write each element in a separate line of the file (fname)\n",
    "        fname.writelines(str(elem)+'\\n')\n",
    "        "
   ]
  },
  {
   "cell_type": "markdown",
   "metadata": {},
   "source": [
    "Now, lets take a look in the file that has just been created (`'exercise_file1.txt'`). In this file, all of the elments of the list have been parsed to a different line as we added the end of line character. If the end of line character is not added, the file will be defined as a sequence of characters instead as:"
   ]
  },
  {
   "cell_type": "code",
   "execution_count": 93,
   "metadata": {
    "collapsed": true
   },
   "outputs": [],
   "source": [
    "# Create the vector that will be written\n",
    "vec = range(10)\n",
    "\n",
    "# Open the file (fname) in write mode, using the with statement\n",
    "with open('files_out\\exercise_file2.txt', 'w') as fname:\n",
    "    # Make a loop to iterate over the elements of the vector\n",
    "    for elem in vec:\n",
    "        # Write each element in a separate line of the file (fname)\n",
    "        fname.writelines(str(elem))"
   ]
  },
  {
   "cell_type": "markdown",
   "metadata": {},
   "source": [
    "Now take a look at the file that has just been created (`'exercise_file2.txt'`). Here you will see that the elements were set one next to the other, as it was literally instructed.\n",
    "\n",
    "# Operations with regular formats\n",
    "\n",
    "The examples presented above are a very low-level way of interacting with arbitrary files. In many cases, the format of the files will be known, and therefore, it is possible to access its content in a systematic way. Many of the common data formats includes XLS, CSV, JSON (in fact, this Jupyter Notebook is a JSON file), XML, HTML, netCDF, etc. For many of this formats there are libraries which are able to parse the data directly, avioding building your own, and allowing operations such as compression. Consider that there are specialised libraries to read and write each type of file format.\n",
    "\n",
    "For common data types, `numpy` and `scipy` libraries have a vast collection of functions which allows to parse data into  `numpy.array`, from which is possible to use. The uses include further data processing, and visualisation, among others. As an example, lets use `numpy` to open the file `data_IO\\csv_example.csv`, using the `loadtxt` function."
   ]
  },
  {
   "cell_type": "code",
   "execution_count": 94,
   "metadata": {},
   "outputs": [
    {
     "name": "stdout",
     "output_type": "stream",
     "text": [
      "[  1.   2.   3.   5.   4.   6.   7.   8.   9.  10.]\n"
     ]
    }
   ],
   "source": [
    "# load the numpy library\n",
    "import numpy as np\n",
    "\n",
    "# Load the csv values into the variable data\n",
    "data = np.loadtxt('data_IO\\csv_example.csv')\n",
    "\n",
    "# Visualise the results\n",
    "print(data)"
   ]
  },
  {
   "cell_type": "markdown",
   "metadata": {},
   "source": [
    "It is possible to observe that here we are not opening or closing the file. This occurs because the `np.loadtxt` function is taking care of those operations directly, and we are only asked to provide the path to the file.\n",
    "\n",
    "In the same form, it is possible to write files using the `np.savetxt` function. The behaviour is quite similar, only with the condition that we have to specify where we will be saving the data, as well as the variable that we are going to save. Please keep in mind that this is only possible for variables which are `np.array`, or that can be turn into it. \n",
    "\n",
    "let us try to write into the file `'my_new_data.txt'` a squared matrix (`matrix_a`) as:"
   ]
  },
  {
   "cell_type": "code",
   "execution_count": 95,
   "metadata": {
    "collapsed": true
   },
   "outputs": [],
   "source": [
    "# Create the matrix to be saved\n",
    "matrix_a = np.array([[1,2],[3,4]])\n",
    "\n",
    "# Define the name of the target file where the matrix will be saved\n",
    "fname = 'files_out\\my_new_data.txt'\n",
    "\n",
    "# Save the matrix in text format\n",
    "np.savetxt(fname, matrix_a)"
   ]
  },
  {
   "cell_type": "markdown",
   "metadata": {},
   "source": [
    "Furthermore, it is possible not to save the results of numerical variables into text files, but into formats which are much more efficient for the machine to read and write. For the particular case of `numpy` we can save files in the format `.npy`. Fundamentally, the files are loaded and save in a similar manner as:\n",
    "\n"
   ]
  },
  {
   "cell_type": "code",
   "execution_count": 96,
   "metadata": {},
   "outputs": [
    {
     "name": "stdout",
     "output_type": "stream",
     "text": [
      "[[1 2]\n",
      " [3 4]]\n"
     ]
    }
   ],
   "source": [
    "# Create the matrix to be saved\n",
    "matrix_a = np.array([[1,2],[3,4]])\n",
    "\n",
    "# Define the name of the target file where the matrix will be saved\n",
    "fname = 'files_out\\my_new_data.npy'\n",
    "\n",
    "# Save the matrix in text format\n",
    "np.save(fname, matrix_a)\n",
    "\n",
    "# load the data into matrix b\n",
    "matrix_b = np.load(fname)\n",
    "\n",
    "print(matrix_b)"
   ]
  },
  {
   "cell_type": "markdown",
   "metadata": {},
   "source": [
    "Due to the charactheristics of the `numpy` library, it is only suited for saving sequences of numbers, so it is not versatile to write specific file types. Additioanally, it is not possible to save other objectes which are not convertible to `np.array` types. Therefore, it is not possible to save objects, functions, dictionaries, strings, etc.\n",
    "\n",
    "As alternative, the \"Pythonic\" way for saving objects is the pickle (cPickle) format. This format allows to save most of python objects, while being extremely efficient in memory. As example, we are going to save a custom list (which cannot be turn into a `numpy` array) into a file, and then we can retrieve it back"
   ]
  },
  {
   "cell_type": "code",
   "execution_count": 97,
   "metadata": {},
   "outputs": [
    {
     "name": "stdout",
     "output_type": "stream",
     "text": [
      "['cat', 'dog', 1, 2, <ufunc 'sin'>]\n"
     ]
    }
   ],
   "source": [
    "# import the cPickle module. Mind the capitalisation of the word\n",
    "import cPickle\n",
    "\n",
    "# Create my custom list\n",
    "custom_list = ['cat', 'dog', 1, 2, np.sin]\n",
    "\n",
    "# Define the path to the file where im saving my file\n",
    "fname = 'files_out\\my_pickle_file.pkl'\n",
    "\n",
    "# Save the list in the pickle format suing the dump command\n",
    "cPickle.dump(custom_list, open(fname, 'w'))\n",
    "\n",
    "# Load the list into another file\n",
    "custom_list_2 = cPickle.load(open(fname, 'r'))\n",
    "\n",
    "# print the loaded list\n",
    "print(custom_list_2)"
   ]
  },
  {
   "cell_type": "markdown",
   "metadata": {},
   "source": [
    "The `cPickle` library uses handles to the files, which is similar to the python way of dealing with files (manually opening and closing). Here in this point we show yet another altenative to carry out this task in a safe way. As we are not going to use the file further than in the specific save and load functions, we can pass the constructor of the handle (`open(fname, 'r')`) directly as a function argument, and therefore, it will end together with the function. If the handle is declared beforehand, it will not end together with the function and has to be explicitly closed (which is not necessarily a good practice). Therefore, we can also use a similar syntax as we did in the begging of the session as:\n"
   ]
  },
  {
   "cell_type": "code",
   "execution_count": 98,
   "metadata": {},
   "outputs": [
    {
     "name": "stdout",
     "output_type": "stream",
     "text": [
      "['cat', 'dog', 1, 2, <ufunc 'sin'>]\n"
     ]
    }
   ],
   "source": [
    "# Create my custom list\n",
    "custom_list = ['cat', 'dog', 1, 2, np.sin]\n",
    "\n",
    "# Define the path to the file where im saving my file\n",
    "fname = 'files_out\\my_pickle_file.pkl'\n",
    "\n",
    "# Note that the file is open in write mode\n",
    "with open(fname, 'w') as handle:\n",
    "    # Save the list in the pickle format suing the dump command\n",
    "    cPickle.dump(custom_list, handle)\n",
    "\n",
    "# Note that the file is open in read mode \n",
    "with open(fname, 'r') as handle:   \n",
    "    # Load the list into another file\n",
    "    custom_list_2 = cPickle.load(handle)\n",
    "\n",
    "# print the loaded list\n",
    "print(custom_list_2)"
   ]
  },
  {
   "cell_type": "code",
   "execution_count": null,
   "metadata": {
    "collapsed": true
   },
   "outputs": [],
   "source": []
  }
 ],
 "metadata": {
  "kernelspec": {
   "display_name": "Python 2",
   "language": "python",
   "name": "python2"
  },
  "language_info": {
   "codemirror_mode": {
    "name": "ipython",
    "version": 2
   },
   "file_extension": ".py",
   "mimetype": "text/x-python",
   "name": "python",
   "nbconvert_exporter": "python",
   "pygments_lexer": "ipython2",
   "version": "2.7.14"
  }
 },
 "nbformat": 4,
 "nbformat_minor": 2
}
